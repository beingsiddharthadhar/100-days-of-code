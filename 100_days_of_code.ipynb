{
  "nbformat": 4,
  "nbformat_minor": 0,
  "metadata": {
    "colab": {
      "provenance": []
    },
    "kernelspec": {
      "name": "python3",
      "display_name": "Python 3"
    },
    "language_info": {
      "name": "python"
    }
  },
  "cells": [
    {
      "cell_type": "code",
      "source": [
        "#100daysofcodewithharrysummarycodes"
      ],
      "metadata": {
        "id": "hek_x4hKO_LF"
      },
      "execution_count": null,
      "outputs": []
    },
    {
      "cell_type": "markdown",
      "source": [
        "Day 1 -Print statement"
      ],
      "metadata": {
        "id": "etpnZvGvKSzW"
      }
    },
    {
      "cell_type": "code",
      "execution_count": null,
      "metadata": {
        "colab": {
          "base_uri": "https://localhost:8080/"
        },
        "id": "9SoaTaK6I3hO",
        "outputId": "2cadc3de-54ba-4ab1-e96f-b61cfefefbfc"
      },
      "outputs": [
        {
          "output_type": "stream",
          "name": "stdout",
          "text": [
            "hello world\n",
            "5\n"
          ]
        }
      ],
      "source": [
        "print(\"hello world\")\n",
        "print(\"5\")"
      ]
    },
    {
      "cell_type": "markdown",
      "source": [
        "Day 2- Importing libraries and modules"
      ],
      "metadata": {
        "id": "-hBVxmFtKWii"
      }
    },
    {
      "cell_type": "code",
      "source": [
        "import pandas\n",
        "import hashlib\n",
        "import tensorflow\n",
        "print(\"hi\")"
      ],
      "metadata": {
        "colab": {
          "base_uri": "https://localhost:8080/"
        },
        "id": "OoYoWsT6KXy_",
        "outputId": "b6c99cb3-6899-4fa9-ff32-1139845991a6"
      },
      "execution_count": null,
      "outputs": [
        {
          "output_type": "stream",
          "name": "stdout",
          "text": [
            "hi\n"
          ]
        }
      ]
    },
    {
      "cell_type": "markdown",
      "source": [
        "Day 3-How to install modules in python"
      ],
      "metadata": {
        "id": "20GR0FCiNTnM"
      }
    },
    {
      "cell_type": "code",
      "source": [
        "import pandas as pd\n",
        "import matplotlib.pyplot as plt\n",
        "import seaborn as sns\n",
        "import warnings\n",
        "warnings.filterwarnings('ignore')"
      ],
      "metadata": {
        "id": "3sXlYb9VNSt7"
      },
      "execution_count": null,
      "outputs": []
    },
    {
      "cell_type": "markdown",
      "source": [
        "Day 4- Basic operations"
      ],
      "metadata": {
        "id": "Q3MBLKfbN8gG"
      }
    },
    {
      "cell_type": "code",
      "source": [
        "print('my name is siddhartha dhar',78)\n",
        "print(5)\n",
        "print('bye')\n",
        "print(17*13)\n",
        "print(13-9)\n",
        "print(9/9)"
      ],
      "metadata": {
        "colab": {
          "base_uri": "https://localhost:8080/"
        },
        "id": "5WSNgeE_N-fo",
        "outputId": "9cca7d82-7e88-4ab8-d6b7-c9ab97315480"
      },
      "execution_count": null,
      "outputs": [
        {
          "output_type": "stream",
          "name": "stdout",
          "text": [
            "my name is siddhartha dhar 78\n",
            "5\n",
            "bye\n",
            "221\n",
            "4\n",
            "1.0\n"
          ]
        }
      ]
    },
    {
      "cell_type": "markdown",
      "source": [
        "Day 5- Comments and escape operator"
      ],
      "metadata": {
        "id": "nXExu27lOash"
      }
    },
    {
      "cell_type": "code",
      "source": [
        "'''comments write using the hash operator\n",
        "#comment video\n",
        "#hey,siddhartha dont remove the line of code please''' #multiline comments using triple single quotes\n",
        "print(\"hello world\") #printing hello world\n",
        "print(19,\"july\", 2,sep=\"-\",end=\"002\\n\")\n",
        "print(\"siddhartha dhar\")"
      ],
      "metadata": {
        "colab": {
          "base_uri": "https://localhost:8080/"
        },
        "id": "pzijyeXXOaPJ",
        "outputId": "52e4ba62-30e2-4db1-9f63-72e5b3171a3f"
      },
      "execution_count": null,
      "outputs": [
        {
          "output_type": "stream",
          "name": "stdout",
          "text": [
            "hello world\n",
            "19-july-2002\n",
            "siddhartha dhar\n"
          ]
        }
      ]
    },
    {
      "cell_type": "markdown",
      "source": [
        "Day 6- Variables and data types"
      ],
      "metadata": {
        "id": "YI5Xd2JEPKKv"
      }
    },
    {
      "cell_type": "code",
      "source": [
        "a=1\n",
        "b=5\n",
        "s=10\n",
        "b=\"harryboi\"\n",
        "print(a,s,'-',b)"
      ],
      "metadata": {
        "colab": {
          "base_uri": "https://localhost:8080/"
        },
        "id": "gmDX7uNaPJ0U",
        "outputId": "47f7012e-6fba-4da3-af55-ec1a40b9fe03"
      },
      "execution_count": null,
      "outputs": [
        {
          "output_type": "stream",
          "name": "stdout",
          "text": [
            "1 10 - harryboi\n"
          ]
        }
      ]
    },
    {
      "cell_type": "code",
      "source": [
        "a=1\n",
        "c=\"Harry\"\n",
        "b=2\n",
        "print(a+b)\n",
        "print(\"the type of a is \",type(a))\n",
        "print(type(c))\n",
        "f=complex(8,5)\n",
        "print(f)\n",
        "list1=[8,2,[-4,5],[\"apple\",\"banana\"]]\n",
        "print(list1)\n",
        "tuple=['parrot','sparrow','crow']\n",
        "print(tuple)\n",
        "dict1={\"name\":'siddhartha',\"age\":\"20\",\"course\":\"B.TECH\",\"eligibilty\":True}\n",
        "print(dict1)"
      ],
      "metadata": {
        "colab": {
          "base_uri": "https://localhost:8080/"
        },
        "id": "tWI8XySYTyMT",
        "outputId": "c4a318d6-022f-43d6-81f2-33d3fd22f343"
      },
      "execution_count": null,
      "outputs": [
        {
          "output_type": "stream",
          "name": "stdout",
          "text": [
            "3\n",
            "the type of a is  <class 'int'>\n",
            "<class 'str'>\n",
            "(8+5j)\n",
            "[8, 2, [-4, 5], ['apple', 'banana']]\n",
            "['parrot', 'sparrow', 'crow']\n",
            "{'name': 'siddhartha', 'age': '20', 'course': 'B.TECH', 'eligibilty': True}\n"
          ]
        }
      ]
    },
    {
      "cell_type": "markdown",
      "source": [
        "Day 7 Calculator"
      ],
      "metadata": {
        "id": "Imkz1GVjWwwr"
      }
    },
    {
      "cell_type": "code",
      "source": [
        "a=int(input())\n",
        "b=int(input())\n",
        "print(a+b)\n",
        "print(a-b)\n",
        "print(a*b)\n",
        "print(a/b)\n",
        "print(a**b)\n",
        "print(a%b)\n"
      ],
      "metadata": {
        "colab": {
          "base_uri": "https://localhost:8080/"
        },
        "id": "TrQ6DJeDWwJ6",
        "outputId": "760f2a4a-85e1-402c-c09c-c632b8a9c40e"
      },
      "execution_count": null,
      "outputs": [
        {
          "output_type": "stream",
          "name": "stdout",
          "text": [
            "25\n",
            "5\n",
            "30\n",
            "20\n",
            "125\n",
            "5.0\n",
            "9765625\n",
            "0\n"
          ]
        }
      ]
    },
    {
      "cell_type": "markdown",
      "source": [
        "Day 8- Solutions of calculator exercise"
      ],
      "metadata": {
        "id": "aQP1iHSkZXCS"
      }
    },
    {
      "cell_type": "markdown",
      "source": [
        "Day 9- Typecasting in python"
      ],
      "metadata": {
        "id": "m3_P2NqJZbtc"
      }
    },
    {
      "cell_type": "code",
      "source": [
        "a=\"1\"\n",
        "b=\"2\"\n",
        "print(int(a)+int(b))\n",
        "s=\"15\"\n",
        "b=7\n",
        "p=int(s)\n",
        "sum=b+p\n",
        "print(sum)"
      ],
      "metadata": {
        "colab": {
          "base_uri": "https://localhost:8080/"
        },
        "id": "UerXLiNVZc28",
        "outputId": "b6f88c89-e51f-4d39-b06f-8412cacbd817"
      },
      "execution_count": null,
      "outputs": [
        {
          "output_type": "stream",
          "name": "stdout",
          "text": [
            "3\n",
            "22\n"
          ]
        }
      ]
    },
    {
      "cell_type": "markdown",
      "source": [
        "Day 10- user input"
      ],
      "metadata": {
        "id": "u3WpTPX5cAFA"
      }
    },
    {
      "cell_type": "code",
      "source": [
        "a=input()\n",
        "print(\"my name is \",a)\n",
        "b=int(input())\n",
        "c=int(input())\n",
        "print(\"the sum of two numbers is\",b+c)"
      ],
      "metadata": {
        "colab": {
          "base_uri": "https://localhost:8080/"
        },
        "id": "ovQQKbRrcFll",
        "outputId": "48d67ac5-598f-4983-a0c0-15d835e392a8"
      },
      "execution_count": null,
      "outputs": [
        {
          "output_type": "stream",
          "name": "stdout",
          "text": [
            "Sid\n",
            "my name is  Sid\n",
            "5\n",
            "4\n",
            "the sum of two numbers is 9\n"
          ]
        }
      ]
    },
    {
      "cell_type": "markdown",
      "source": [
        "Day 11- Strings"
      ],
      "metadata": {
        "id": "tZlirWuDdG_Q"
      }
    },
    {
      "cell_type": "code",
      "source": [
        "name=\"harry\"\n",
        "print(name[0])\n",
        "n='lovish'\n",
        "print(n[1])\n",
        "apple='''hi i am sid\n",
        "ddsvsdvrgvdsvd'''\n",
        "print(apple)\n",
        "print(\"lets use a for loop\")\n",
        "#looping in stings\n",
        "for character in name:\n",
        "  print(character)"
      ],
      "metadata": {
        "colab": {
          "base_uri": "https://localhost:8080/"
        },
        "id": "1T5MALIpdGkS",
        "outputId": "177dfb96-8968-462e-9327-37060103ceef"
      },
      "execution_count": null,
      "outputs": [
        {
          "output_type": "stream",
          "name": "stdout",
          "text": [
            "h\n",
            "o\n",
            "hi i am sid\n",
            "ddsvsdvrgvdsvd\n",
            "lets use a for loop\n",
            "h\n",
            "a\n",
            "r\n",
            "r\n",
            "y\n"
          ]
        }
      ]
    },
    {
      "cell_type": "markdown",
      "source": [
        "Day 12- String Slicing and string operations"
      ],
      "metadata": {
        "id": "4CQ9ZZxgofJH"
      }
    },
    {
      "cell_type": "code",
      "source": [
        "names=\"harry,Siddhartha,saptorshee\"\n",
        "print(names[0:7])\n",
        "print(names[0])\n",
        "print(len(names))\n",
        "print(names[:])\n",
        "print(names[0:-3])\n",
        "print(names[-5:-3])\n",
        "print(names[-10:])\n",
        "nm=\"harry\"\n",
        "print(nm[-4:-2])\n"
      ],
      "metadata": {
        "colab": {
          "base_uri": "https://localhost:8080/"
        },
        "id": "p6hYWvqeoiDA",
        "outputId": "cd3da9a0-3ed7-47ac-ff84-eb0c6d0e0720"
      },
      "execution_count": null,
      "outputs": [
        {
          "output_type": "stream",
          "name": "stdout",
          "text": [
            "harry,S\n",
            "h\n",
            "27\n",
            "harry,Siddhartha,saptorshee\n",
            "harry,Siddhartha,saptors\n",
            "rs\n",
            "saptorshee\n",
            "ar\n"
          ]
        }
      ]
    },
    {
      "cell_type": "markdown",
      "source": [
        "Day 13- String methods"
      ],
      "metadata": {
        "id": "gdiJ77kcqia8"
      }
    },
    {
      "cell_type": "code",
      "source": [
        "a=\"!!!!Siddhartha\"\n",
        "print(a.upper())\n",
        "print(a.lower())\n",
        "print(len(a))\n",
        "#strings are immutable\n",
        "print(a.rstrip('!'))\n",
        "print(a.replace(\"Siddhartha\",\"Saaheb\"))\n",
        "c=\"harry???\"\n",
        "print(c.capitalize())\n",
        "print(a.count('Siddhartha'))\n",
        "print(c.endswith('?'))\n",
        "o=\"my name is fidunishaan, i am a student of SRM \"\n",
        "print(o.find('SRM'))\n",
        "print(o.islower())\n",
        "print(o.isprintable())\n",
        "print(o.isspace())\n",
        "print(o.swapcase())\n",
        "print(o.title())"
      ],
      "metadata": {
        "colab": {
          "base_uri": "https://localhost:8080/"
        },
        "id": "wF65b9GYq-cc",
        "outputId": "b8c79c31-f0e2-46e9-993e-e2f2a21ba269"
      },
      "execution_count": null,
      "outputs": [
        {
          "output_type": "stream",
          "name": "stdout",
          "text": [
            "!!!!SIDDHARTHA\n",
            "!!!!siddhartha\n",
            "14\n",
            "!!!!Siddhartha\n",
            "!!!!Saaheb\n",
            "Harry???\n",
            "1\n",
            "True\n",
            "42\n",
            "False\n",
            "True\n",
            "False\n",
            "MY NAME IS FIDUNISHAAN, I AM A STUDENT OF srm \n",
            "My Name Is Fidunishaan, I Am A Student Of Srm \n"
          ]
        }
      ]
    },
    {
      "cell_type": "markdown",
      "source": [
        "Day 14- If else statements"
      ],
      "metadata": {
        "id": "Y_h0zyYHuGql"
      }
    },
    {
      "cell_type": "code",
      "source": [
        "s=int(input(\"enter your age\"))\n",
        "print(\"your age is \",s)\n",
        "if s>18:\n",
        "  print(\"you can drive\")\n",
        "  print(\"yes\")\n",
        "\n",
        "\n",
        "else:\n",
        "  print('no you cannot drive ')\n",
        "  print(\"no\")\n",
        "print(\"driving should be practiced carefully \")\n"
      ],
      "metadata": {
        "colab": {
          "base_uri": "https://localhost:8080/"
        },
        "id": "TdWJWNyiuJWC",
        "outputId": "e1ee3a63-6fe7-4dcb-acb5-759576244b2e"
      },
      "execution_count": null,
      "outputs": [
        {
          "output_type": "stream",
          "name": "stdout",
          "text": [
            "enter your age3\n",
            "your age is  3\n",
            "no you cannot drive \n",
            "no\n",
            "driving should be practiced carefully \n"
          ]
        }
      ]
    },
    {
      "cell_type": "code",
      "source": [
        "mangoprice=300\n",
        "budget=800\n",
        "if(budget-mangoprice<100):\n",
        "  print(\"do not buy mango from the market\")\n",
        "elif(budget-mangoprice>250):\n",
        "  print(\"its okay you can also buy \")\n",
        "else:\n",
        "  print(\"buy mangoes\")"
      ],
      "metadata": {
        "colab": {
          "base_uri": "https://localhost:8080/"
        },
        "id": "cOlqPwOJvk62",
        "outputId": "d3b2c4f0-4884-4de3-e6c6-4cbb4ea97d3c"
      },
      "execution_count": null,
      "outputs": [
        {
          "output_type": "stream",
          "name": "stdout",
          "text": [
            "its okay you can also buy \n"
          ]
        }
      ]
    },
    {
      "cell_type": "code",
      "source": [
        "#nested if-else\n",
        "n=17\n",
        "if(n<0):\n",
        "  print(\"number is negative\")\n",
        "elif(n>0):\n",
        "  if(n<=10):\n",
        "    print(\"number is between 1-10\")\n",
        "  if(n>10 and n<=20):\n",
        "    print(\"number is between 11-20\")\n",
        "else:\n",
        "  print(\"number is not in the range of 1-20\")"
      ],
      "metadata": {
        "colab": {
          "base_uri": "https://localhost:8080/"
        },
        "id": "uJ3cG815wsG7",
        "outputId": "ce64f2e2-c9d6-410a-e697-e84dcf66bde7"
      },
      "execution_count": null,
      "outputs": [
        {
          "output_type": "stream",
          "name": "stdout",
          "text": [
            "number is between 11-20\n"
          ]
        }
      ]
    },
    {
      "cell_type": "markdown",
      "source": [
        "Day 15- Time module"
      ],
      "metadata": {
        "id": "ehXVkjyTyoKh"
      }
    },
    {
      "cell_type": "code",
      "source": [
        "import time\n",
        "timestamp=time.strftime('%H:%M:%S')\n",
        "print(timestamp)\n",
        "timestamp=time.strftime('%H')\n",
        "print(timestamp)\n",
        "timestamp=time.strftime('%M')\n",
        "print(timestamp)\n",
        "timestamp=time.strftime('%S')\n",
        "print(timestamp)\n"
      ],
      "metadata": {
        "colab": {
          "base_uri": "https://localhost:8080/"
        },
        "id": "ps4J9kYbynx5",
        "outputId": "060bb19a-90ea-4248-cd24-de871fd7229b"
      },
      "execution_count": null,
      "outputs": [
        {
          "output_type": "stream",
          "name": "stdout",
          "text": [
            "05:39:32\n",
            "05\n",
            "39\n",
            "32\n"
          ]
        }
      ]
    },
    {
      "cell_type": "code",
      "source": [
        "import time\n",
        "timestamp=time.strftime('%H:%M:%S')\n",
        "hour=int(time.strftime(\"%H\"))\n",
        "print(hour)\n",
        "if(hour>0 and hour<12):\n",
        "  print(\"good morning sir\")\n",
        "elif(hour>12 and hour<16 ):\n",
        "  print(\"good afternoon sir\")\n",
        "elif(hour>16 and hour<20):\n",
        "  print(\"good evening sir\")\n",
        "else:\n",
        "  print(\"good night sir\")"
      ],
      "metadata": {
        "colab": {
          "base_uri": "https://localhost:8080/"
        },
        "id": "IaHNxNOh3oEx",
        "outputId": "eddec079-0bd8-4c1d-f83d-786c88082a19"
      },
      "execution_count": null,
      "outputs": [
        {
          "output_type": "stream",
          "name": "stdout",
          "text": [
            "5\n",
            "good morning sir\n"
          ]
        }
      ]
    },
    {
      "cell_type": "markdown",
      "source": [
        "Day 16-Match case statements"
      ],
      "metadata": {
        "id": "wNrTakUp5shX"
      }
    },
    {
      "cell_type": "code",
      "source": [
        "x=int(input(\"enter the value of x\"))\n",
        "match x:\n",
        "  case 0:\n",
        "    print(\"x is zero\")\n",
        "  case 2:\n",
        "    print(\"x is two\")\n",
        "  case 4:\n",
        "    print(\"x is four\")\n",
        "  case default:\n",
        "    print(x)"
      ],
      "metadata": {
        "colab": {
          "base_uri": "https://localhost:8080/"
        },
        "id": "VKQ2Q2wP5u6c",
        "outputId": "d1835477-0912-4146-960c-703a5ee858ce"
      },
      "execution_count": null,
      "outputs": [
        {
          "output_type": "stream",
          "name": "stdout",
          "text": [
            "enter the value of x3\n",
            "3\n"
          ]
        }
      ]
    },
    {
      "cell_type": "markdown",
      "source": [
        "Day 17- For Loops"
      ],
      "metadata": {
        "id": "BYl3KLZS9SDT"
      }
    },
    {
      "cell_type": "code",
      "source": [
        "for x in range(1,6):\n",
        "  print(x)\n",
        "name=\"sid\"\n",
        "for i in name:\n",
        "    print(i)\n",
        "    if(i=='i'):\n",
        "      print(\"breaking bad\")"
      ],
      "metadata": {
        "colab": {
          "base_uri": "https://localhost:8080/"
        },
        "id": "TLstoKD_9WkL",
        "outputId": "7a374ec6-7691-4393-a4f4-8bb09264b188"
      },
      "execution_count": null,
      "outputs": [
        {
          "output_type": "stream",
          "name": "stdout",
          "text": [
            "1\n",
            "2\n",
            "3\n",
            "4\n",
            "5\n",
            "s\n",
            "i\n",
            "breaking bad\n",
            "d\n"
          ]
        }
      ]
    },
    {
      "cell_type": "code",
      "source": [
        "colors=[\"Green\",\"red\",\"yellow\",\"Pink\"]\n",
        "for x in colors:\n",
        "  print(x)\n",
        "  for i in x:\n",
        "    print(i)\n",
        "\n",
        "for k in range(1,4):\n",
        "    print(k+1)\n",
        "print(\"***********\")\n",
        "for m in range(1,10,2):\n",
        "   print(m)\n"
      ],
      "metadata": {
        "colab": {
          "base_uri": "https://localhost:8080/"
        },
        "id": "bGdh-C59-fQi",
        "outputId": "a8194a3f-18e0-41a7-a9e2-ea45a11fd45a"
      },
      "execution_count": null,
      "outputs": [
        {
          "output_type": "stream",
          "name": "stdout",
          "text": [
            "Green\n",
            "G\n",
            "r\n",
            "e\n",
            "e\n",
            "n\n",
            "red\n",
            "r\n",
            "e\n",
            "d\n",
            "yellow\n",
            "y\n",
            "e\n",
            "l\n",
            "l\n",
            "o\n",
            "w\n",
            "Pink\n",
            "P\n",
            "i\n",
            "n\n",
            "k\n",
            "2\n",
            "3\n",
            "4\n",
            "***********\n",
            "1\n",
            "3\n",
            "5\n",
            "7\n",
            "9\n"
          ]
        }
      ]
    },
    {
      "cell_type": "markdown",
      "source": [
        "Day 18- While loops"
      ],
      "metadata": {
        "id": "jcJDdQoHBv0H"
      }
    },
    {
      "cell_type": "code",
      "source": [
        "k=0\n",
        "while(k<5):\n",
        "  print(k)\n",
        "  k+=1\n",
        "i=int(input('enter the number:'))\n",
        "while(i<=38):\n",
        "  i=int(input(\"enter the number\"))\n",
        "  print(i)\n",
        "print(\"done with the loop\")\n",
        "count=5\n",
        "while(count>0):\n",
        "  print(count)\n",
        "  count-=1"
      ],
      "metadata": {
        "colab": {
          "base_uri": "https://localhost:8080/"
        },
        "id": "yv8qUNAi360l",
        "outputId": "75da466d-39b3-41f7-a13f-0b314ab0eda2"
      },
      "execution_count": null,
      "outputs": [
        {
          "output_type": "stream",
          "name": "stdout",
          "text": [
            "0\n",
            "1\n",
            "2\n",
            "3\n",
            "4\n",
            "enter the number:3\n",
            "enter the number6\n",
            "6\n",
            "enter the number42\n",
            "42\n",
            "done with the loop\n",
            "5\n",
            "4\n",
            "3\n",
            "2\n",
            "1\n"
          ]
        }
      ]
    },
    {
      "cell_type": "code",
      "source": [
        "count=10\n",
        "while(count>0):\n",
        "  print(count)\n",
        "  count-=1\n",
        "else:\n",
        "  print(\"i am done\")"
      ],
      "metadata": {
        "colab": {
          "base_uri": "https://localhost:8080/"
        },
        "id": "z58AUS3X50-Y",
        "outputId": "a6ee0944-311a-4c63-8bc7-67252a82d5fe"
      },
      "execution_count": null,
      "outputs": [
        {
          "output_type": "stream",
          "name": "stdout",
          "text": [
            "10\n",
            "9\n",
            "8\n",
            "7\n",
            "6\n",
            "5\n",
            "4\n",
            "3\n",
            "2\n",
            "1\n",
            "i am done\n"
          ]
        }
      ]
    },
    {
      "cell_type": "markdown",
      "source": [
        "Day 19- break and continue"
      ],
      "metadata": {
        "id": "tPtb6FxXJ1rq"
      }
    },
    {
      "cell_type": "code",
      "source": [
        "for i in range(12):\n",
        "  if(i==10):\n",
        "      break\n",
        "  print( \"5 X\",i+1,\"=\",5*(i+1))\n",
        "\n",
        "\n"
      ],
      "metadata": {
        "colab": {
          "base_uri": "https://localhost:8080/"
        },
        "id": "f0LUl7_B6DDQ",
        "outputId": "aa1a830f-2f0c-4956-c68b-ef2eb49eac7d"
      },
      "execution_count": null,
      "outputs": [
        {
          "output_type": "stream",
          "name": "stdout",
          "text": [
            "5 X 1 = 5\n",
            "5 X 2 = 10\n",
            "5 X 3 = 15\n",
            "5 X 4 = 20\n",
            "5 X 5 = 25\n",
            "5 X 6 = 30\n",
            "5 X 7 = 35\n",
            "5 X 8 = 40\n",
            "5 X 9 = 45\n",
            "5 X 10 = 50\n"
          ]
        }
      ]
    },
    {
      "cell_type": "code",
      "source": [
        "i=0\n",
        "while True:\n",
        "  print(i)\n",
        "  i+=1\n",
        "  if(i%50==0):\n",
        "    break\n"
      ],
      "metadata": {
        "colab": {
          "base_uri": "https://localhost:8080/"
        },
        "id": "C7SETtx3MP2J",
        "outputId": "8d38c46c-b31f-4f6a-824d-25bed5b646c3"
      },
      "execution_count": null,
      "outputs": [
        {
          "output_type": "stream",
          "name": "stdout",
          "text": [
            "0\n",
            "1\n",
            "2\n",
            "3\n",
            "4\n",
            "5\n",
            "6\n",
            "7\n",
            "8\n",
            "9\n",
            "10\n",
            "11\n",
            "12\n",
            "13\n",
            "14\n",
            "15\n",
            "16\n",
            "17\n",
            "18\n",
            "19\n",
            "20\n",
            "21\n",
            "22\n",
            "23\n",
            "24\n",
            "25\n",
            "26\n",
            "27\n",
            "28\n",
            "29\n",
            "30\n",
            "31\n",
            "32\n",
            "33\n",
            "34\n",
            "35\n",
            "36\n",
            "37\n",
            "38\n",
            "39\n",
            "40\n",
            "41\n",
            "42\n",
            "43\n",
            "44\n",
            "45\n",
            "46\n",
            "47\n",
            "48\n",
            "49\n"
          ]
        }
      ]
    },
    {
      "cell_type": "markdown",
      "source": [
        "Day 20- Functions in python"
      ],
      "metadata": {
        "id": "NyfrBvVvM9LW"
      }
    },
    {
      "cell_type": "code",
      "source": [
        "def calculategmean(a,b):\n",
        "  mean=(a*b)/(a+b)\n",
        "  print(mean)\n",
        "def isgreater(a,b):\n",
        "  if(a>b):\n",
        "    print(\"first number is greater\")\n",
        "  else:\n",
        "    print(\"second number is greater\")\n",
        "a=9\n",
        "b=8\n",
        "c=2\n",
        "d=3\n",
        "calculategmean(a,b)\n",
        "isgreater(a,b)\n",
        "calculategmean(c,d)\n",
        "isgreater(c,d)\n",
        "def lesser(a,b):\n",
        "  pass             #pass means to pass the function and will write the code later\n"
      ],
      "metadata": {
        "id": "fpG7b6sWNBhn",
        "colab": {
          "base_uri": "https://localhost:8080/"
        },
        "outputId": "f8e39b8c-bba8-4ea1-b6e2-5cc8fbf5e2f3"
      },
      "execution_count": null,
      "outputs": [
        {
          "output_type": "stream",
          "name": "stdout",
          "text": [
            "4.235294117647059\n",
            "first number is greater\n",
            "1.2\n",
            "second number is greater\n"
          ]
        }
      ]
    },
    {
      "cell_type": "markdown",
      "source": [
        "Day 21-Function arguments"
      ],
      "metadata": {
        "id": "LTZpTdk_y0aQ"
      }
    },
    {
      "cell_type": "code",
      "source": [
        "def average(a=9,b=1):\n",
        "  print('the average is',(a+b)/2)\n",
        "average(b=6,a=20)\n"
      ],
      "metadata": {
        "colab": {
          "base_uri": "https://localhost:8080/"
        },
        "id": "rD4uQNOBy3Mr",
        "outputId": "28027c66-5309-41a6-af23-d4a776150a32"
      },
      "execution_count": null,
      "outputs": [
        {
          "output_type": "stream",
          "name": "stdout",
          "text": [
            "the average is 13.0\n"
          ]
        }
      ]
    },
    {
      "cell_type": "code",
      "source": [
        "def average(*numbers):\n",
        "  sum=0\n",
        "  for i in numbers:\n",
        "    sum+=i\n",
        "    print(\"the average is:\",sum/len(numbers))\n",
        "average(5,2)\n"
      ],
      "metadata": {
        "colab": {
          "base_uri": "https://localhost:8080/"
        },
        "id": "fLBZidRsawXx",
        "outputId": "dd21a42f-7349-48b9-83ac-ce6535ef9c6c"
      },
      "execution_count": null,
      "outputs": [
        {
          "output_type": "stream",
          "name": "stdout",
          "text": [
            "the average is: 2.5\n",
            "the average is: 3.5\n"
          ]
        }
      ]
    },
    {
      "cell_type": "markdown",
      "source": [
        "Day 22-Lists in python"
      ],
      "metadata": {
        "id": "N0fuQoyWcAKb"
      }
    },
    {
      "cell_type": "code",
      "source": [
        "list1=['siddhartha','saptorshee','pradipto',34,89,65,67]\n",
        "print(list1[0])\n",
        "print(list1[1])\n",
        "print(list1[2])\n",
        "print(list1[3])\n",
        "print(type(list1))\n",
        "if 34 in list1:\n",
        "  print(\"haan bhai hai ye \")\n",
        "else:\n",
        "  print(\"no\")\n",
        "if \"sid\" in \"siddhartha\":\n",
        "    print(\"naam bhi hai tera\")\n",
        "else:\n",
        "  print(\"nahi bhai\")\n",
        "print(list1[1:3])\n",
        "print(list1[1:-1])\n",
        "print(list1[0:5:2])\n",
        "print(len(list1))\n",
        "x=[i*i for i in range(10) if i%2==0]\n",
        "print(x)"
      ],
      "metadata": {
        "colab": {
          "base_uri": "https://localhost:8080/"
        },
        "id": "Uvp7KbeNbzyx",
        "outputId": "c4f5a3f5-29b6-438a-ec86-858e2c2abe65"
      },
      "execution_count": null,
      "outputs": [
        {
          "output_type": "stream",
          "name": "stdout",
          "text": [
            "siddhartha\n",
            "saptorshee\n",
            "pradipto\n",
            "34\n",
            "<class 'list'>\n",
            "haan bhai hai ye \n",
            "naam bhi hai tera\n",
            "['saptorshee', 'pradipto']\n",
            "['saptorshee', 'pradipto', 34, 89, 65]\n",
            "['siddhartha', 'pradipto', 89]\n",
            "7\n",
            "[0, 4, 16, 36, 64]\n"
          ]
        }
      ]
    },
    {
      "cell_type": "markdown",
      "source": [
        "Day 23- List methods"
      ],
      "metadata": {
        "id": "rY8U37oPefDT"
      }
    },
    {
      "cell_type": "code",
      "source": [
        "list=[9,6,7,23,1,23,32,32]\n",
        "list.append(4)\n",
        "print(list)\n",
        "list.reverse()\n",
        "print(list)\n",
        "print(list.index(1))\n",
        "print(list.count(32))\n",
        "list.insert(1,45)\n",
        "print(list)\n",
        "list1=[900,1000,1100]\n",
        "list.extend(list1)\n",
        "print(list)"
      ],
      "metadata": {
        "colab": {
          "base_uri": "https://localhost:8080/"
        },
        "id": "4PLPL01ZeiBT",
        "outputId": "c30bd0cb-ab15-4164-c669-643dcae320f0"
      },
      "execution_count": null,
      "outputs": [
        {
          "output_type": "stream",
          "name": "stdout",
          "text": [
            "[9, 6, 7, 23, 1, 23, 32, 32, 4]\n",
            "[4, 32, 32, 23, 1, 23, 7, 6, 9]\n",
            "4\n",
            "2\n",
            "[4, 45, 32, 32, 23, 1, 23, 7, 6, 9]\n",
            "[4, 45, 32, 32, 23, 1, 23, 7, 6, 9, 900, 1000, 1100]\n"
          ]
        }
      ]
    },
    {
      "cell_type": "markdown",
      "source": [
        "Day 24-Tuples"
      ],
      "metadata": {
        "id": "TjheQ3mh03of"
      }
    },
    {
      "cell_type": "code",
      "source": [
        "tuple=(1,2,3,4,5,7,43,12,11)\n",
        "print(tuple[1],tuple[3])\n",
        "print(type(tuple))\n",
        "print(tuple[-2])\n",
        "if 3 in tuple:\n",
        "  print(\"yes\")\n",
        "else:\n",
        "  print(\"NO\")\n",
        "tuple2=tuple[1:4]\n",
        "print(tuple2)"
      ],
      "metadata": {
        "colab": {
          "base_uri": "https://localhost:8080/"
        },
        "id": "ZGncikgs05Oo",
        "outputId": "0ee2faa7-858e-46e1-8511-6df8edd2b4a3"
      },
      "execution_count": null,
      "outputs": [
        {
          "output_type": "stream",
          "name": "stdout",
          "text": [
            "2 4\n",
            "<class 'tuple'>\n",
            "12\n",
            "yes\n",
            "(2, 3, 4)\n"
          ]
        }
      ]
    },
    {
      "cell_type": "markdown",
      "source": [
        "Day 25- Operations on Tuples"
      ],
      "metadata": {
        "id": "m8Rb6-Tg149t"
      }
    },
    {
      "cell_type": "code",
      "source": [
        "countries = (\"Spain\", \"Italy\", \"India\", \"England\", \"Germany\")\n",
        "temp = list(countries)\n",
        "temp.append(\"Russia\")       #add item\n",
        "temp.pop(3)                 #remove item\n",
        "temp[2] = \"Finland\"         #change item\n",
        "countries = tuple(temp)\n",
        "print(countries)"
      ],
      "metadata": {
        "colab": {
          "base_uri": "https://localhost:8080/",
          "height": 235
        },
        "id": "zC4CQhbA1Pyd",
        "outputId": "b5b0ca82-2c85-49ea-82b5-4a1342f5b9c0"
      },
      "execution_count": null,
      "outputs": [
        {
          "output_type": "error",
          "ename": "TypeError",
          "evalue": "ignored",
          "traceback": [
            "\u001b[0;31m---------------------------------------------------------------------------\u001b[0m",
            "\u001b[0;31mTypeError\u001b[0m                                 Traceback (most recent call last)",
            "\u001b[0;32m<ipython-input-31-a9b1ca50fa33>\u001b[0m in \u001b[0;36m<cell line: 2>\u001b[0;34m()\u001b[0m\n\u001b[1;32m      1\u001b[0m \u001b[0mcountries\u001b[0m \u001b[0;34m=\u001b[0m \u001b[0;34m(\u001b[0m\u001b[0;34m\"Spain\"\u001b[0m\u001b[0;34m,\u001b[0m \u001b[0;34m\"Italy\"\u001b[0m\u001b[0;34m,\u001b[0m \u001b[0;34m\"India\"\u001b[0m\u001b[0;34m,\u001b[0m \u001b[0;34m\"England\"\u001b[0m\u001b[0;34m,\u001b[0m \u001b[0;34m\"Germany\"\u001b[0m\u001b[0;34m)\u001b[0m\u001b[0;34m\u001b[0m\u001b[0;34m\u001b[0m\u001b[0m\n\u001b[0;32m----> 2\u001b[0;31m \u001b[0mtemp\u001b[0m \u001b[0;34m=\u001b[0m \u001b[0mlist\u001b[0m\u001b[0;34m(\u001b[0m\u001b[0mcountries\u001b[0m\u001b[0;34m)\u001b[0m\u001b[0;34m\u001b[0m\u001b[0;34m\u001b[0m\u001b[0m\n\u001b[0m\u001b[1;32m      3\u001b[0m \u001b[0mtemp\u001b[0m\u001b[0;34m.\u001b[0m\u001b[0mappend\u001b[0m\u001b[0;34m(\u001b[0m\u001b[0;34m\"Russia\"\u001b[0m\u001b[0;34m)\u001b[0m       \u001b[0;31m#add item\u001b[0m\u001b[0;34m\u001b[0m\u001b[0;34m\u001b[0m\u001b[0m\n\u001b[1;32m      4\u001b[0m \u001b[0mtemp\u001b[0m\u001b[0;34m.\u001b[0m\u001b[0mpop\u001b[0m\u001b[0;34m(\u001b[0m\u001b[0;36m3\u001b[0m\u001b[0;34m)\u001b[0m                 \u001b[0;31m#remove item\u001b[0m\u001b[0;34m\u001b[0m\u001b[0;34m\u001b[0m\u001b[0m\n\u001b[1;32m      5\u001b[0m \u001b[0mtemp\u001b[0m\u001b[0;34m[\u001b[0m\u001b[0;36m2\u001b[0m\u001b[0;34m]\u001b[0m \u001b[0;34m=\u001b[0m \u001b[0;34m\"Finland\"\u001b[0m         \u001b[0;31m#change item\u001b[0m\u001b[0;34m\u001b[0m\u001b[0;34m\u001b[0m\u001b[0m\n",
            "\u001b[0;31mTypeError\u001b[0m: 'list' object is not callable"
          ]
        }
      ]
    },
    {
      "cell_type": "code",
      "source": [
        "c=(\"south africa\",\"America\",\"alaska\")\n",
        "d=(\"india\",\"pakistan\")\n",
        "s=c+d\n",
        "print(s)   #adding two tuples"
      ],
      "metadata": {
        "colab": {
          "base_uri": "https://localhost:8080/"
        },
        "id": "U9veFuMw758s",
        "outputId": "4327d162-1d5c-4b61-cb55-1170a11c14bd"
      },
      "execution_count": null,
      "outputs": [
        {
          "output_type": "stream",
          "name": "stdout",
          "text": [
            "('south africa', 'America', 'alaska', 'india', 'pakistan')\n"
          ]
        }
      ]
    },
    {
      "cell_type": "markdown",
      "source": [
        "Day 26- Solution of day 15 (Time module)"
      ],
      "metadata": {
        "id": "5ryDx3PC8y3a"
      }
    },
    {
      "cell_type": "markdown",
      "source": [
        "Day 27-KBC program"
      ],
      "metadata": {
        "id": "uG2JayN-84hr"
      }
    },
    {
      "cell_type": "code",
      "source": [
        "questions=[\n",
        " ['Who is the president of india?','a.Narendra Modi','b.Draupadi Murmu','c.Arun Jaitley','d.Rajnath Singh',2],\n",
        " ['Who is the PM of india?','a.Narendra Modi','b.Pranab mukherjee','c.Amit shah', 'd.Adityanath Yogi',1],\n",
        " ['What is the capital of Assam?','a.Guwahati','b.Dispur','c.Silchar','d.Shillong',2],\n",
        " ['Who invented bulb?','a.Newton','b.Thomas edison','c.J.C.Bose','d.Dr.A.P.J.Abdul kalam ',2],\n",
        " ['Who is the Home minister of india?','a.Natthulal singh','b.Ram vikas verma','c.Amit Shah','d.Hemanta biswa sharma',3],\n",
        "]\n",
        "levels=[2000,4000,6000,8000,10000]\n",
        "money=0\n",
        "for i in range(0,len(questions)):\n",
        "  question = questions[i]\n",
        "  print(f\"\\n\\nQuestion for Rs. {levels[i]}\")\n",
        "  print(questions[i])\n",
        "  reply = int(input(\"Enter your answer (1-4) or  0 to quit:\\n\" ))\n",
        "  if (reply == 0):\n",
        "    money = levels[i-1]\n",
        "    break\n",
        "  if(reply == question[-1]):\n",
        "    print(f\"Correct answer, you have won Rs. {levels[i]}\")\n",
        "    if(i == 1):\n",
        "      money = 4000\n",
        "    elif(i == 2):\n",
        "      money = 8000\n",
        "    elif(i ==31\n",
        "         ):\n",
        "      money = 10000\n",
        "  else:\n",
        "    print(\"Wrong answer!\")\n",
        "    break\n",
        "\n",
        "print(f\"Your take home money is {money}\")"
      ],
      "metadata": {
        "id": "20Fe0boK8m53",
        "colab": {
          "base_uri": "https://localhost:8080/"
        },
        "outputId": "ef63a3cf-d559-42a8-9be3-77663234aed5"
      },
      "execution_count": null,
      "outputs": [
        {
          "output_type": "stream",
          "name": "stdout",
          "text": [
            "\n",
            "\n",
            "Question for Rs. 2000\n",
            "['Who is the president of india?', 'a.Narendra Modi', 'b.Draupadi Murmu', 'c.Arun Jaitley', 'd.Rajnath Singh', 2]\n",
            "Enter your answer (1-4) or  0 to quit:\n",
            "2\n",
            "Correct answer, you have won Rs. 2000\n",
            "\n",
            "\n",
            "Question for Rs. 4000\n",
            "['Who is the PM of india?', 'a.Narendra Modi', 'b.Pranab mukherjee', 'c.Amit shah', 'd.Adityanath Yogi', 1]\n",
            "Enter your answer (1-4) or  0 to quit:\n",
            "1\n",
            "Correct answer, you have won Rs. 4000\n",
            "\n",
            "\n",
            "Question for Rs. 6000\n",
            "['What is the capital of Assam?', 'a.Guwahati', 'b.Dispur', 'c.Silchar', 'd.Shillong', 2]\n",
            "Enter your answer (1-4) or  0 to quit:\n",
            "2\n",
            "Correct answer, you have won Rs. 6000\n",
            "\n",
            "\n",
            "Question for Rs. 8000\n",
            "['Who invented bulb?', 'a.Newton', 'b.Thomas edison', 'c.J.C.Bose', 'd.Dr.A.P.J.Abdul kalam ', 2]\n",
            "Enter your answer (1-4) or  0 to quit:\n",
            "2\n",
            "Correct answer, you have won Rs. 8000\n",
            "\n",
            "\n",
            "Question for Rs. 10000\n",
            "['Who is the Home minister of india?', 'a.Natthulal singh', 'b.Ram vikas verma', 'c.Amit Shah', 'd.Hemanta biswa sharma', 3]\n",
            "Enter your answer (1-4) or  0 to quit:\n",
            "3\n",
            "Correct answer, you have won Rs. 10000\n",
            "Your take home money is 10000\n"
          ]
        }
      ]
    },
    {
      "cell_type": "markdown",
      "source": [
        "Day 28- f strings"
      ],
      "metadata": {
        "id": "kUMlDgX4QNAl"
      }
    },
    {
      "cell_type": "code",
      "source": [
        "letter=\"my name is {} and i am from {}\"\n",
        "name=\"siddhartha\"\n",
        "state=\"assam\"\n",
        "print(letter.format(name,state))"
      ],
      "metadata": {
        "colab": {
          "base_uri": "https://localhost:8080/"
        },
        "id": "b1wFVzdrQD2g",
        "outputId": "b747d193-c569-488d-e391-09a8fd6cb847"
      },
      "execution_count": null,
      "outputs": [
        {
          "output_type": "stream",
          "name": "stdout",
          "text": [
            "my name is siddhartha and i am from assam\n"
          ]
        }
      ]
    },
    {
      "cell_type": "code",
      "source": [
        "name=\"sid\"\n",
        "clg='SRM'\n",
        "print(f\"hey my name is {name} and i study in {clg}\")\n",
        "price=49.90999\n",
        "txt=f\"the cake is available only at {price:0.2f} dollars\"\n",
        "print(txt)"
      ],
      "metadata": {
        "colab": {
          "base_uri": "https://localhost:8080/"
        },
        "id": "9rkHvk2vRgbj",
        "outputId": "d588a41a-4d12-4ed5-b9a9-196eb456a176"
      },
      "execution_count": null,
      "outputs": [
        {
          "output_type": "stream",
          "name": "stdout",
          "text": [
            "hey my name is sid and i study in SRM\n",
            "the cake is available only at 49.91 dollars\n"
          ]
        }
      ]
    },
    {
      "cell_type": "markdown",
      "source": [
        "Day 29- Docstrings"
      ],
      "metadata": {
        "id": "vOCBO_jtS2An"
      }
    },
    {
      "cell_type": "code",
      "source": [
        "def square(n):\n",
        "  ''' HEY THE SQUARE OF THE NUMBER'''\n",
        "  print(n*n)\n",
        "square(5)\n",
        "print(square.__doc__)"
      ],
      "metadata": {
        "colab": {
          "base_uri": "https://localhost:8080/"
        },
        "id": "_zU2lGmcS47I",
        "outputId": "f55aa9f0-b3c0-4a6b-bcd1-47faa4afb6a9"
      },
      "execution_count": null,
      "outputs": [
        {
          "output_type": "stream",
          "name": "stdout",
          "text": [
            "25\n",
            " HEY THE SQUARE OF THE NUMBER\n"
          ]
        }
      ]
    },
    {
      "cell_type": "markdown",
      "source": [
        "Day 30- Recursion"
      ],
      "metadata": {
        "id": "nhnfzdxmTmTp"
      }
    },
    {
      "cell_type": "code",
      "source": [
        "def fact(n):\n",
        "  if(n==0 or n==1):\n",
        "    return 1\n",
        "  else:\n",
        "    return n*fact(n-1)\n",
        "print(fact(3))\n",
        "print(fact(6))"
      ],
      "metadata": {
        "colab": {
          "base_uri": "https://localhost:8080/"
        },
        "id": "YJHdj1LgToQj",
        "outputId": "2c7a916e-c546-418b-a238-0bd3d73e9011"
      },
      "execution_count": null,
      "outputs": [
        {
          "output_type": "stream",
          "name": "stdout",
          "text": [
            "6\n",
            "720\n"
          ]
        }
      ]
    },
    {
      "cell_type": "markdown",
      "source": [
        "Fibonacci series program"
      ],
      "metadata": {
        "id": "K_tQhueQWNT8"
      }
    },
    {
      "cell_type": "code",
      "source": [
        "def Fibonacci(n):\n",
        "\tif n == 0:\n",
        "\t\treturn 0\n",
        "\telif n == 1 or n == 2:\n",
        "\t\treturn 1\n",
        "\telse:\n",
        "\t\treturn Fibonacci(n-1) + Fibonacci(n-2)\n",
        "print(Fibonacci(9))\n"
      ],
      "metadata": {
        "colab": {
          "base_uri": "https://localhost:8080/"
        },
        "id": "57w4DxcaWPmM",
        "outputId": "479fb967-b5eb-44f8-ff1c-f515d449fc94"
      },
      "execution_count": null,
      "outputs": [
        {
          "output_type": "stream",
          "name": "stdout",
          "text": [
            "34\n"
          ]
        }
      ]
    },
    {
      "cell_type": "markdown",
      "source": [
        "Day 31- Sets"
      ],
      "metadata": {
        "id": "j7mgpdZdjK_O"
      }
    },
    {
      "cell_type": "code",
      "source": [
        "s={2,5,6,4,\"harry\",'sid','harry'}\n",
        "print(s)\n",
        "p={23,32,44,\"gidiya\",'hampy'}\n",
        "print(p)\n",
        "t=set()\n",
        "print(type(t))\n",
        "dict = {1: 'Geeks', 2: 'For', 3: 'Geeks'}\n",
        "print(dict)\n",
        "\n",
        "print(dict)\n",
        "print(type(dict))"
      ],
      "metadata": {
        "colab": {
          "base_uri": "https://localhost:8080/"
        },
        "id": "WXfARL8JjNsU",
        "outputId": "9987ae68-2bc8-4482-f220-19a381caf51b"
      },
      "execution_count": null,
      "outputs": [
        {
          "output_type": "stream",
          "name": "stdout",
          "text": [
            "{2, 4, 5, 6, 'harry', 'sid'}\n",
            "{32, 'hampy', 23, 'gidiya', 44}\n",
            "<class 'set'>\n",
            "{1: 'Geeks', 2: 'For', 3: 'Geeks'}\n",
            "{1: 'Geeks', 2: 'For', 3: 'Geeks'}\n",
            "<class 'dict'>\n"
          ]
        }
      ]
    },
    {
      "cell_type": "markdown",
      "source": [
        "Day 32- Set methods"
      ],
      "metadata": {
        "id": "0Ue1YZXwkzCw"
      }
    },
    {
      "cell_type": "code",
      "source": [
        "s1={2,3,1,5,2}\n",
        "s2={9,4,5,2,1,0}\n",
        "print(s1.union(s2))\n",
        "print(s1.intersection(s2))\n",
        "print(s1.issubset(s2))\n",
        "c={\"delhi\",\"kolkata\",\"mumbai\"}\n",
        "d={\"chennai\",\"delhi\",\"lahore\"}\n",
        "print(c.intersection(d))\n",
        "print(c.union (d))\n",
        "print(c.symmetric_difference(d))\n",
        "print(c.difference(d))\n",
        "print(c.pop())"
      ],
      "metadata": {
        "colab": {
          "base_uri": "https://localhost:8080/"
        },
        "id": "S5HL0Dnrk2NR",
        "outputId": "f36111e3-2e4f-4463-c68d-f6c7ccb27b23"
      },
      "execution_count": null,
      "outputs": [
        {
          "output_type": "stream",
          "name": "stdout",
          "text": [
            "{0, 1, 2, 3, 4, 5, 9}\n",
            "{1, 2, 5}\n",
            "False\n",
            "{'delhi'}\n",
            "{'delhi', 'lahore', 'kolkata', 'mumbai', 'chennai'}\n",
            "{'lahore', 'kolkata', 'mumbai', 'chennai'}\n",
            "{'kolkata', 'mumbai'}\n",
            "kolkata\n"
          ]
        }
      ]
    },
    {
      "cell_type": "markdown",
      "source": [
        "Day 33-Dictionaries"
      ],
      "metadata": {
        "id": "ImxzB28FnDqi"
      }
    },
    {
      "cell_type": "code",
      "source": [
        "d={1:\"give\",2:\"lend\",3:\"handover\",4:\"keep\"}\n",
        "print(d[3])\n",
        "print(d.keys())\n",
        "print(d.values())\n",
        "print(d.items())\n",
        "for x in d.keys():\n",
        "  print(d[x])"
      ],
      "metadata": {
        "colab": {
          "base_uri": "https://localhost:8080/"
        },
        "id": "6IZcytc5nFtm",
        "outputId": "ceb96c94-dd1a-4572-ba5c-8ebddf615edd"
      },
      "execution_count": null,
      "outputs": [
        {
          "output_type": "stream",
          "name": "stdout",
          "text": [
            "handover\n",
            "dict_keys([1, 2, 3, 4])\n",
            "dict_values(['give', 'lend', 'handover', 'keep'])\n",
            "dict_items([(1, 'give'), (2, 'lend'), (3, 'handover'), (4, 'keep')])\n",
            "give\n",
            "lend\n",
            "handover\n",
            "keep\n"
          ]
        }
      ]
    },
    {
      "cell_type": "markdown",
      "source": [
        "Day 34-Dictionary methods"
      ],
      "metadata": {
        "id": "4LlovESjrbQy"
      }
    },
    {
      "cell_type": "code",
      "source": [
        "e={1:23,2:32,3:122,4:89}\n",
        "f={5:\"shyam\",6:\"raj\"}\n",
        "e.update(f)\n",
        "print(e)\n",
        "e.pop(3)\n",
        "print(e)\n",
        "e.clear()\n",
        "print(e)"
      ],
      "metadata": {
        "colab": {
          "base_uri": "https://localhost:8080/"
        },
        "id": "N5OPJQQvrem_",
        "outputId": "0171accc-f35c-4a28-bad2-2a2e1baa192b"
      },
      "execution_count": null,
      "outputs": [
        {
          "output_type": "stream",
          "name": "stdout",
          "text": [
            "{1: 23, 2: 32, 3: 122, 4: 89, 5: 'shyam', 6: 'raj'}\n",
            "{1: 23, 2: 32, 4: 89, 5: 'shyam', 6: 'raj'}\n",
            "{}\n"
          ]
        }
      ]
    },
    {
      "cell_type": "markdown",
      "source": [
        "Day 35- for loop with else"
      ],
      "metadata": {
        "id": "lIncGB9DsmqD"
      }
    },
    {
      "cell_type": "code",
      "source": [
        "for i in range(6):\n",
        "  print(i)\n",
        "  if i==4:\n",
        "    break\n",
        "else:\n",
        "    print(\"okay\")"
      ],
      "metadata": {
        "colab": {
          "base_uri": "https://localhost:8080/"
        },
        "id": "NMZ3olqVsmVN",
        "outputId": "c89c83ae-39d6-43ac-a992-00d185900b03"
      },
      "execution_count": null,
      "outputs": [
        {
          "output_type": "stream",
          "name": "stdout",
          "text": [
            "0\n",
            "1\n",
            "2\n",
            "3\n",
            "4\n"
          ]
        }
      ]
    },
    {
      "cell_type": "markdown",
      "source": [
        "Day 36- Exception Handling"
      ],
      "metadata": {
        "id": "la1zJ-VLvZZr"
      }
    },
    {
      "cell_type": "code",
      "source": [
        "a=(input(\"enter a number: \"))\n",
        "print(f\"multiplication table of{a} is: \")\n",
        "try:\n",
        "  for i in range(1,11):\n",
        "    print(f\"{int(a)} X {int(i)} = {int(a)*int(i)}\")\n",
        "except Exception as e:\n",
        "  print(\"Invalid input \")\n",
        "print(\"multiplication table \")"
      ],
      "metadata": {
        "id": "-UCd8Gw5vcW8",
        "colab": {
          "base_uri": "https://localhost:8080/"
        },
        "outputId": "91eaecda-617f-4956-c16f-6bdab6fff639"
      },
      "execution_count": null,
      "outputs": [
        {
          "output_type": "stream",
          "name": "stdout",
          "text": [
            "enter a numberth\n",
            "multiplication table ofth is:\n",
            "Invalid input \n",
            "multiplication table \n"
          ]
        }
      ]
    },
    {
      "cell_type": "markdown",
      "source": [
        "Day 37- Finally keyword"
      ],
      "metadata": {
        "id": "6GaazlLp_y5e"
      }
    },
    {
      "cell_type": "code",
      "source": [
        "def func1():\n",
        "  try:\n",
        "    l = [1, 5, 6, 7]\n",
        "    i = int(input(\"Enter the index: \"))\n",
        "    print(l[i])\n",
        "    return 1\n",
        "  except:\n",
        "    print(\"Some error occurred\")\n",
        "    return 0\n",
        "\n",
        "  finally:\n",
        "    print(\"I am always executed\")\n",
        "\n",
        "x = func1()\n",
        "print(x)"
      ],
      "metadata": {
        "colab": {
          "base_uri": "https://localhost:8080/"
        },
        "id": "zF69wWgm_4tE",
        "outputId": "f486e55d-97d2-4799-e28d-4bb5076f3113"
      },
      "execution_count": null,
      "outputs": [
        {
          "output_type": "stream",
          "name": "stdout",
          "text": [
            "Enter the index: 2\n",
            "6\n",
            "I am always executed\n",
            "1\n"
          ]
        }
      ]
    },
    {
      "cell_type": "markdown",
      "source": [
        "Day 38-  Raising Custom errors"
      ],
      "metadata": {
        "id": "8zPet2gvCN4a"
      }
    },
    {
      "cell_type": "code",
      "source": [
        "a=input('Enter your number(5 to 9): ')\n",
        "if (a=='quit'):\n",
        "  pass\n",
        "elif(int(a)<5 or int(a)>9):\n",
        "  raise ValueError('Enter a value in between 5 and 9')\n",
        "print(a)\n"
      ],
      "metadata": {
        "colab": {
          "base_uri": "https://localhost:8080/"
        },
        "id": "CbWUTpNfC0T3",
        "outputId": "08b1b8b7-cf91-4112-a12d-6a8183a9409c"
      },
      "execution_count": null,
      "outputs": [
        {
          "output_type": "stream",
          "name": "stdout",
          "text": [
            "Enter your number(5 to 9): quit\n",
            "quit\n"
          ]
        }
      ]
    },
    {
      "cell_type": "markdown",
      "source": [
        "Day 39- Solution of KBC problem given above"
      ],
      "metadata": {
        "id": "ZUCU8VwhKQtl"
      }
    },
    {
      "cell_type": "markdown",
      "source": [
        "Day 40- Reversing a string\n"
      ],
      "metadata": {
        "id": "XRPfh1uCKVDv"
      }
    },
    {
      "cell_type": "code",
      "source": [
        "a=input(\"enter your string: \") #REVERSE A STRING\n",
        "print(a[::-1])"
      ],
      "metadata": {
        "colab": {
          "base_uri": "https://localhost:8080/"
        },
        "id": "Z2czZsDRKaev",
        "outputId": "0984d3fd-9ec0-446f-ac50-dd7b0f2f62f5"
      },
      "execution_count": null,
      "outputs": [
        {
          "output_type": "stream",
          "name": "stdout",
          "text": [
            "enter your string: Siddhartha Dhar\n",
            "rahD ahtrahddiS\n"
          ]
        }
      ]
    },
    {
      "cell_type": "markdown",
      "source": [
        "Secret code language\n"
      ],
      "metadata": {
        "id": "oFxV8NvvMa7D"
      }
    },
    {
      "cell_type": "code",
      "source": [
        "st=input(\"enter message: \")\n",
        "if(len(st)>=3):\n",
        "  r=\"321\"\n",
        "  s=\"123\"\n",
        "  sol= r+st[1:]+st[0]+s\n",
        "  print(sol)"
      ],
      "metadata": {
        "id": "VVRJQSalM0Bk",
        "colab": {
          "base_uri": "https://localhost:8080/"
        },
        "outputId": "2bbfd69f-d50f-4302-a428-cf7755884ac3"
      },
      "execution_count": null,
      "outputs": [
        {
          "output_type": "stream",
          "name": "stdout",
          "text": [
            "enter message: sidisggooood\n",
            "321idisggoooods123\n"
          ]
        }
      ]
    },
    {
      "cell_type": "code",
      "source": [
        "st = input(\"Enter message\")\n",
        "words = st.split(\" \")\n",
        "coding = input(\"1 for Coding or 0 for Decoding\")\n",
        "coding = True if (coding==\"1\") else False\n",
        "print(coding)\n",
        "if(coding):\n",
        "  nwords = []\n",
        "  for word in words:\n",
        "    if(len(word)>=3):\n",
        "      r1 = \"dsf\"\n",
        "      r2 = \"jkr\"\n",
        "      stnew = r1+ word[1:] + word[0] + r2\n",
        "      nwords.append(stnew)\n",
        "    else:\n",
        "      nwords.append(word[::-1])\n",
        "  print(\" \".join(nwords))\n",
        "\n",
        "else:\n",
        "  nwords = []\n",
        "  for word in words:\n",
        "    if(len(word)>=3):\n",
        "      stnew = word[3:-3]\n",
        "      stnew = stnew[-1] + stnew[:-1]\n",
        "      nwords.append(stnew)\n",
        "    else:\n",
        "      nwords.append(word[::-1])\n",
        "  print(\" \".join(nwords))"
      ],
      "metadata": {
        "colab": {
          "base_uri": "https://localhost:8080/"
        },
        "id": "8ShI-L46ZBnB",
        "outputId": "f709f340-c4d5-43be-f417-f8a2460795e1"
      },
      "execution_count": null,
      "outputs": [
        {
          "output_type": "stream",
          "name": "stdout",
          "text": [
            "Enter messagedsfidSjkr si dsfoodgjkr\n",
            "1 for Coding or 0 for Decoding0\n",
            "False\n",
            "Sid is good\n"
          ]
        }
      ]
    },
    {
      "cell_type": "markdown",
      "source": [
        "Day 41- Short hand if else statements"
      ],
      "metadata": {
        "id": "7v7nAZ7pPR84"
      }
    },
    {
      "cell_type": "code",
      "source": [
        "s=200\n",
        "p=230\n",
        "print(\"s>p\" ) if s>p else print(\"=\") if s==p else print(\"s<p\")\n",
        "c=\"harry\" if s<p else 0\n",
        "print(c)"
      ],
      "metadata": {
        "id": "FKSfHKbgTSi2",
        "colab": {
          "base_uri": "https://localhost:8080/"
        },
        "outputId": "8801adb5-dc0b-4f15-9559-a4e0aadf1a2f"
      },
      "execution_count": null,
      "outputs": [
        {
          "output_type": "stream",
          "name": "stdout",
          "text": [
            "s<p\n",
            "harry\n"
          ]
        }
      ]
    },
    {
      "cell_type": "code",
      "source": [
        "n=int(input())\n",
        "if(n%2!=0):\n",
        "  print(\"odd\")\n",
        "else:\n",
        "  print(\"even\")"
      ],
      "metadata": {
        "colab": {
          "base_uri": "https://localhost:8080/"
        },
        "id": "3GZowsQLb0wu",
        "outputId": "73b4032f-cebd-478e-9471-02ab8f897120"
      },
      "execution_count": null,
      "outputs": [
        {
          "output_type": "stream",
          "name": "stdout",
          "text": [
            "5\n",
            "odd\n"
          ]
        }
      ]
    },
    {
      "cell_type": "markdown",
      "source": [
        "Day 42- Enumerate function"
      ],
      "metadata": {
        "id": "vPfL3dM2fTeU"
      }
    },
    {
      "cell_type": "code",
      "source": [
        "marks=[90,91,93,24,54,66]\n",
        "index=0\n",
        "for mark in marks:\n",
        "  print(mark)\n",
        "  if(index==3):\n",
        "    print(\"hey,you are awesome\")\n",
        "  index+=1"
      ],
      "metadata": {
        "colab": {
          "base_uri": "https://localhost:8080/"
        },
        "id": "d05GmSsnfVyR",
        "outputId": "a994514b-8f2e-4262-f950-4e5d9ff500b1"
      },
      "execution_count": null,
      "outputs": [
        {
          "output_type": "stream",
          "name": "stdout",
          "text": [
            "90\n",
            "91\n",
            "93\n",
            "24\n",
            "hey,you are awesome\n",
            "54\n",
            "66\n"
          ]
        }
      ]
    },
    {
      "cell_type": "code",
      "source": [
        "marks=[90,91,93,24,54,66]\n",
        "for index,mark in enumerate(marks):\n",
        "  print(mark)\n",
        "  if(index==3):\n",
        "    print(\"hey,you are awesome\")"
      ],
      "metadata": {
        "colab": {
          "base_uri": "https://localhost:8080/"
        },
        "id": "_qCt-S_PhFwn",
        "outputId": "54ccd269-1488-410b-811c-9799ce4b7de3"
      },
      "execution_count": null,
      "outputs": [
        {
          "output_type": "stream",
          "name": "stdout",
          "text": [
            "90\n",
            "91\n",
            "93\n",
            "24\n",
            "hey,you are awesome\n",
            "54\n",
            "66\n"
          ]
        }
      ]
    },
    {
      "cell_type": "markdown",
      "source": [
        "Day 43- Virtual environment  #installing different packages of python or any modules using shell scripting."
      ],
      "metadata": {
        "id": "EjR09ZIEs7U9"
      }
    },
    {
      "cell_type": "code",
      "source": [
        "import pandas as pd\n",
        "import numpy as np\n",
        "print(np.__version__)\n",
        "print(pd.__version__)"
      ],
      "metadata": {
        "colab": {
          "base_uri": "https://localhost:8080/"
        },
        "id": "U45f1iastTgS",
        "outputId": "7823714f-73d3-49b9-f04b-13e3c3384bba"
      },
      "execution_count": null,
      "outputs": [
        {
          "output_type": "stream",
          "name": "stdout",
          "text": [
            "1.22.4\n",
            "1.5.3\n"
          ]
        }
      ]
    },
    {
      "cell_type": "markdown",
      "source": [
        "Day 44- import modules"
      ],
      "metadata": {
        "id": "PMxpgW2bs-ZJ"
      }
    },
    {
      "cell_type": "code",
      "source": [
        "from math import *\n",
        "import pandas as pd\n",
        "import numpy as np\n",
        "import math\n",
        "print(math.floor(2.3))\n",
        "print(math.sqrt(9)* pi )"
      ],
      "metadata": {
        "colab": {
          "base_uri": "https://localhost:8080/"
        },
        "id": "Bpwb3aAytyRf",
        "outputId": "6734645c-cfdc-4720-a95f-e5fab00149e6"
      },
      "execution_count": null,
      "outputs": [
        {
          "output_type": "stream",
          "name": "stdout",
          "text": [
            "2\n",
            "9.42477796076938\n"
          ]
        }
      ]
    },
    {
      "cell_type": "markdown",
      "source": [
        "Day 45- if__name__=\"__main__\" module"
      ],
      "metadata": {
        "id": "RJ0upDm1vMeZ"
      }
    },
    {
      "cell_type": "code",
      "source": [
        "def welcome():\n",
        "  print(\"my name is sid\")\n",
        "  print(__name__)\n",
        "if __name__==\"main\":\n",
        "  welcome()"
      ],
      "metadata": {
        "colab": {
          "base_uri": "https://localhost:8080/"
        },
        "id": "_tdghAyQwtGJ",
        "outputId": "d95e6f46-baf2-4675-e857-ef7b11c30a01"
      },
      "execution_count": null,
      "outputs": [
        {
          "output_type": "stream",
          "name": "stdout",
          "text": [
            "my name is sid\n",
            "__main__\n"
          ]
        }
      ]
    },
    {
      "cell_type": "markdown",
      "source": [
        "Day 46- os module"
      ],
      "metadata": {
        "id": "r8HHAuhcxcOx"
      }
    },
    {
      "cell_type": "code",
      "source": [
        " import os\n",
        " if (not os.path.exists(\"dir\")):\n",
        "  os.mkdir(\"dir\")\n",
        " for i in range(0,100):\n",
        "  os.mkdir(f\"dir/Day{i+1}\")\n"
      ],
      "metadata": {
        "id": "aGE8hXuzxpQP"
      },
      "execution_count": null,
      "outputs": []
    },
    {
      "cell_type": "markdown",
      "source": [
        "Day 47- Solution of secret code language"
      ],
      "metadata": {
        "id": "seLTwuZAwMa1"
      }
    },
    {
      "cell_type": "markdown",
      "source": [
        "Day 48- local and global keywords"
      ],
      "metadata": {
        "id": "5VbPrcGgwmxU"
      }
    },
    {
      "cell_type": "code",
      "source": [
        "x=4\n",
        "print(x)\n",
        "def func():\n",
        "  x=5\n",
        "  print(\"hello siddhartha\")\n",
        "  print(f\"the local variable is {x} \")\n",
        "func()\n",
        "print(f\"the global variable is {x}\")"
      ],
      "metadata": {
        "colab": {
          "base_uri": "https://localhost:8080/"
        },
        "id": "2jlutmaWwrY5",
        "outputId": "ea361850-3e0f-46b4-c905-7309c1cd769a"
      },
      "execution_count": null,
      "outputs": [
        {
          "output_type": "stream",
          "name": "stdout",
          "text": [
            "4\n",
            "hello siddhartha\n",
            "the local variable is 5 \n",
            "the global variable is 4\n"
          ]
        }
      ]
    },
    {
      "cell_type": "code",
      "source": [
        "x=10\n",
        "\n",
        "def func():    #global variable changes to 4\n",
        "  global x\n",
        "  x=4\n",
        "  y=5\n",
        "  print(y)\n",
        "func()\n",
        "print(x)"
      ],
      "metadata": {
        "colab": {
          "base_uri": "https://localhost:8080/"
        },
        "id": "r_TYdqK31nI2",
        "outputId": "093f6f75-77ce-4725-b31e-0af63af706b3"
      },
      "execution_count": null,
      "outputs": [
        {
          "output_type": "stream",
          "name": "stdout",
          "text": [
            "5\n",
            "4\n"
          ]
        }
      ]
    },
    {
      "cell_type": "markdown",
      "source": [
        "Day 49- File IO"
      ],
      "metadata": {
        "id": "J3pFs4qB2CdP"
      }
    },
    {
      "cell_type": "code",
      "source": [
        "f = open('myfile.txt', 'a')\n",
        "f.write('Hello, world!\\n')\n",
        "f.close()\n",
        "\n",
        "with open('myfile.txt', 'a') as f:\n",
        "  f.write(\"Hey I am inside with\")"
      ],
      "metadata": {
        "id": "3HCoROT013_B"
      },
      "execution_count": null,
      "outputs": []
    },
    {
      "cell_type": "markdown",
      "source": [
        "Day 50- read(),readlines()"
      ],
      "metadata": {
        "id": "g0vn9qni3_A9"
      }
    },
    {
      "cell_type": "code",
      "source": [
        "f=open('myfile2.txt','w')\n",
        "lines=[\"line1\\n\",\"line2\\n\",\"line3\\n\"]\n",
        "f.writelines(lines)\n",
        "\n"
      ],
      "metadata": {
        "id": "sdyBdECa4Bg8"
      },
      "execution_count": null,
      "outputs": []
    },
    {
      "cell_type": "markdown",
      "source": [
        "Day 51- File handling seek(),tell()"
      ],
      "metadata": {
        "id": "Xt-SQsEMw4S6"
      }
    },
    {
      "cell_type": "code",
      "source": [
        "with open('newfile.txt','r') as f:\n",
        "  f.seek(16)\n",
        "  print(type(f))\n",
        "  print(f.tell())\n",
        "  data= f.read(4)\n",
        "  print(data)\n"
      ],
      "metadata": {
        "id": "QfFqEVOmw76S",
        "colab": {
          "base_uri": "https://localhost:8080/"
        },
        "outputId": "5bf1fd3b-54df-4479-cc55-0c6b54fac5e8"
      },
      "execution_count": null,
      "outputs": [
        {
          "output_type": "stream",
          "name": "stdout",
          "text": [
            "<class '_io.TextIOWrapper'>\n",
            "16\n",
            "good\n"
          ]
        }
      ]
    },
    {
      "cell_type": "code",
      "source": [
        "with open('sample.txt','w') as f:\n",
        "  f.write(\"hello world!\")\n",
        "  f.truncate(3)"
      ],
      "metadata": {
        "id": "_f_TTZeP0a7P"
      },
      "execution_count": null,
      "outputs": []
    },
    {
      "cell_type": "markdown",
      "source": [
        "Day 52- Lambda functions"
      ],
      "metadata": {
        "id": "VJVtiQ-m5E08"
      }
    },
    {
      "cell_type": "code",
      "source": [
        "def double(x):\n",
        "  print(x*2)\n",
        "(double(5))\n",
        "\n",
        "double= lambda x:x*2\n",
        "cube=lambda x:x*x*x\n",
        "avg= lambda x,y:(x+y)/2\n",
        "print(double(3))\n",
        "print(cube(3))\n",
        "print(avg(5,2))\n"
      ],
      "metadata": {
        "colab": {
          "base_uri": "https://localhost:8080/"
        },
        "id": "thxsbZ0l5L-C",
        "outputId": "dcf6e43c-2d87-409f-9411-c13ca4bb00cc"
      },
      "execution_count": null,
      "outputs": [
        {
          "output_type": "stream",
          "name": "stdout",
          "text": [
            "10\n",
            "6\n",
            "27\n",
            "3.5\n"
          ]
        }
      ]
    },
    {
      "cell_type": "markdown",
      "source": [
        "Day 53- Map,filter and reduce"
      ],
      "metadata": {
        "id": "aeDdQxR27Wph"
      }
    },
    {
      "cell_type": "code",
      "source": [
        "from functools import reduce\n",
        "def sum(b,c):\n",
        "   return b+c\n",
        "m=(1,2,3,4,5)\n",
        "newww= reduce(sum,m)\n",
        "print(newww)\n",
        "\n",
        "\n",
        "def cube(x):\n",
        "  return x * x * x\n",
        "l = (1, 2, 3, 6, 5, 4)\n",
        "newl = tuple(map(cube, l))\n",
        "print(newl)\n",
        "\n",
        "def function(a):\n",
        "  return a>2\n",
        "newlist=tuple(filter(function,l))\n",
        "print(newlist)\n",
        "\n"
      ],
      "metadata": {
        "colab": {
          "base_uri": "https://localhost:8080/"
        },
        "id": "cHf2beAp7bki",
        "outputId": "aa49bdb8-84f1-4041-ce40-c18cd487def5"
      },
      "execution_count": null,
      "outputs": [
        {
          "output_type": "stream",
          "name": "stdout",
          "text": [
            "15\n",
            "(1, 8, 27, 216, 125, 64)\n",
            "(3, 6, 5, 4)\n"
          ]
        }
      ]
    },
    {
      "cell_type": "markdown",
      "source": [
        "Day 54- 'is' and '=='"
      ],
      "metadata": {
        "id": "Tb_yZqAuDEKZ"
      }
    },
    {
      "cell_type": "code",
      "source": [
        "a=4\n",
        "b='4'\n",
        "print(a==b)\n",
        "print(a is b )\n",
        "c=5\n",
        "d=5\n",
        "print( c is d )\n",
        "print(c==d)"
      ],
      "metadata": {
        "colab": {
          "base_uri": "https://localhost:8080/"
        },
        "id": "fk0CCbWSDPAi",
        "outputId": "cd82ccfa-63c1-47e5-e513-fe3c274d678e"
      },
      "execution_count": null,
      "outputs": [
        {
          "output_type": "stream",
          "name": "stdout",
          "text": [
            "False\n",
            "False\n",
            "True\n",
            "True\n"
          ]
        }
      ]
    },
    {
      "cell_type": "markdown",
      "source": [
        "Day 55-Stone paper scissor game"
      ],
      "metadata": {
        "id": "kHItvUXiQHIa"
      }
    },
    {
      "cell_type": "code",
      "source": [
        "import random\n",
        "\n",
        "def check(user1,user2):\n",
        "  if(user1==user2):\n",
        "    return 0\n",
        "  if(user1==0 and user2==1):\n",
        "      return -1\n",
        "  if(user1==1 and user2==2):\n",
        "    return -1\n",
        "  if(user1==2 and user2==0):\n",
        "    return -1\n",
        "  return 1\n",
        "user1=int(input(\"enter 0 for paper,1 for stone,2 for scissor \"))\n",
        "user2=int(input(\"enter 0 for paper,1 for stone,2 for scissor \"))\n",
        "print(\"user1\",user1)\n",
        "print(\"user2\",user2)\n",
        "score=check(user1,user2)\n",
        "if(score==0):\n",
        "    print(\"its a draw\")\n",
        "elif(score==-1):\n",
        "    print(\"user1 wins\")\n",
        "else:\n",
        "    print(\"user 2 wins\")\n",
        "\n",
        "\n"
      ],
      "metadata": {
        "id": "tEFua00mQDgb",
        "colab": {
          "base_uri": "https://localhost:8080/"
        },
        "outputId": "79a7f123-6c4e-4d93-e391-cfb8ed9d7ff4"
      },
      "execution_count": null,
      "outputs": [
        {
          "output_type": "stream",
          "name": "stdout",
          "text": [
            "enter 0 for paper,1 for stone,2 for scissor 1\n",
            "enter 0 for paper,1 for stone,2 for scissor 2\n",
            "user1 1\n",
            "user2 2\n",
            "user1 wins\n"
          ]
        }
      ]
    },
    {
      "cell_type": "markdown",
      "source": [
        "Day 56- Introduction to OOPs (theory)"
      ],
      "metadata": {
        "id": "HspKNtU0wvbD"
      }
    },
    {
      "cell_type": "markdown",
      "source": [
        "Day 57- Classes and objects"
      ],
      "metadata": {
        "id": "enSnt0r0wR4M"
      }
    },
    {
      "cell_type": "code",
      "source": [
        "class person():\n",
        "  name=\"siddhartha\"\n",
        "  occupation=\"data analyst\"\n",
        "  salary =300000\n",
        "  def info(self):\n",
        "    print(f\"{self.name} is a {self.occupation} \")\n",
        "a=person()\n",
        "b=person()\n",
        "c=person()\n",
        "a.name='shubham'\n",
        "a.occupation='accountant'\n",
        "b.name='kriti'\n",
        "b.occupation='manager'\n",
        "a.info()\n",
        "b.info()\n",
        "c.info()"
      ],
      "metadata": {
        "colab": {
          "base_uri": "https://localhost:8080/"
        },
        "id": "sftaa0Ldwxa5",
        "outputId": "8dc5dcfe-dfda-4c21-c2c5-6d3d0adad62d"
      },
      "execution_count": null,
      "outputs": [
        {
          "output_type": "stream",
          "name": "stdout",
          "text": [
            "shubham is a accountant \n",
            "kriti is a manager \n",
            "siddhartha is a data analyst \n"
          ]
        }
      ]
    },
    {
      "cell_type": "markdown",
      "source": [
        "Day 58-Constructors"
      ],
      "metadata": {
        "id": "wR88MG8qzTuH"
      }
    },
    {
      "cell_type": "code",
      "source": [
        "class person:\n",
        "  def __init__(self,n,o):\n",
        "    self.name=n\n",
        "    self.occ=o\n",
        "  def info(self):\n",
        "    print(f\"{self.name} is a {self.occ}\")\n",
        "a=person(\"sid\",\"manager\")\n",
        "b=person(\"david\",\"specialist\")\n",
        "a.info()\n",
        "b.info()\n"
      ],
      "metadata": {
        "colab": {
          "base_uri": "https://localhost:8080/"
        },
        "id": "0NPU1_KdzXo0",
        "outputId": "64ab4bbb-3860-4450-c34d-9f83d68f29ba"
      },
      "execution_count": null,
      "outputs": [
        {
          "output_type": "stream",
          "name": "stdout",
          "text": [
            "sid is a manager\n",
            "david is a specialist\n"
          ]
        }
      ]
    },
    {
      "cell_type": "markdown",
      "source": [
        "Day 59- Decorators"
      ],
      "metadata": {
        "id": "YHiMVDyb1LYS"
      }
    },
    {
      "cell_type": "code",
      "source": [
        "def greet(x):\n",
        "  def mx():\n",
        "    print(\"good morning\")\n",
        "    x()\n",
        "    print(\"thank you for using this notebook\")\n",
        "  return mx\n",
        "\n",
        "@greet\n",
        "def hello():\n",
        "  print(\"hello world\")\n",
        "def add(a,b):\n",
        "  return a+b\n",
        "hello()\n",
        "add(6,7)"
      ],
      "metadata": {
        "id": "0jfbM10H1TZu",
        "colab": {
          "base_uri": "https://localhost:8080/"
        },
        "outputId": "ea1ce517-2661-4afb-eca5-e9c459043583"
      },
      "execution_count": null,
      "outputs": [
        {
          "output_type": "stream",
          "name": "stdout",
          "text": [
            "good morning\n",
            "hello world\n",
            "thank you for using this notebook\n"
          ]
        },
        {
          "output_type": "execute_result",
          "data": {
            "text/plain": [
              "13"
            ]
          },
          "metadata": {},
          "execution_count": 15
        }
      ]
    },
    {
      "cell_type": "markdown",
      "source": [
        "Day 60- Getters and setters in python"
      ],
      "metadata": {
        "id": "tEMUY3unIrDN"
      }
    },
    {
      "cell_type": "code",
      "source": [
        "class MyClass:\n",
        "  def __init__(self, value):\n",
        "      self._value = value\n",
        "\n",
        "  def show(self):\n",
        "    print(f\"Value is {self._value}\")\n",
        "\n",
        "  @property\n",
        "  def ten_value(self):\n",
        "      return 10* self._value\n",
        "\n",
        "''' @ten_value.setter\n",
        "  def ten_value(self, new_value):\n",
        "      self._value = new_value/10'''\n",
        "\n",
        "obj = MyClass(10)\n",
        "#obj.ten_value = 67\n",
        "print(obj.ten_value)\n",
        "obj.show()"
      ],
      "metadata": {
        "colab": {
          "base_uri": "https://localhost:8080/"
        },
        "id": "4VYBvCgtJSlv",
        "outputId": "66fdc32a-b29e-49ba-dbd0-1bb7a2fdf58f"
      },
      "execution_count": null,
      "outputs": [
        {
          "output_type": "stream",
          "name": "stdout",
          "text": [
            "100\n",
            "Value is 10\n"
          ]
        }
      ]
    },
    {
      "cell_type": "markdown",
      "source": [
        "Day 61- Inheritance in python"
      ],
      "metadata": {
        "id": "waD-ndigMwCZ"
      }
    },
    {
      "cell_type": "code",
      "source": [
        "class employee:\n",
        "  def __init__(self,name,id):\n",
        "    self.name=name\n",
        "    self.id=id\n",
        "  def details(self):\n",
        "    print(f\"Name of the employee: {self.name} and his id is {self.id} \")\n",
        "\n",
        "class programmer(employee):\n",
        "  def x(self):\n",
        "    print(\"the language used by him is python\")\n",
        "\n",
        "class code(programmer):\n",
        "  def y(self):\n",
        "    print(\"his coding knowledge is quite awesome \")\n",
        "\n",
        "a1=code(\"rohan\",420)\n",
        "a1.details()\n",
        "a1.x()\n",
        "a1.y()\n",
        "a2=code(\"Sid\",429)\n",
        "a2.details()\n",
        "a2.x()\n",
        "a2.y()\n"
      ],
      "metadata": {
        "colab": {
          "base_uri": "https://localhost:8080/"
        },
        "id": "TY1XtZUdL_on",
        "outputId": "b7aa1314-e9f7-4d82-f3aa-776e56d7c2d6"
      },
      "execution_count": null,
      "outputs": [
        {
          "output_type": "stream",
          "name": "stdout",
          "text": [
            "Name of the employee: rohan and his id is 420 \n",
            "the language used by him is python\n",
            "his coding knowledge is quite awesome \n",
            "Name of the employee: Sid and his id is 429 \n",
            "the language used by him is python\n",
            "his coding knowledge is quite awesome \n"
          ]
        }
      ]
    },
    {
      "cell_type": "markdown",
      "source": [
        "Day 62- Access modifiers"
      ],
      "metadata": {
        "id": "jnbGzuCETxAO"
      }
    },
    {
      "cell_type": "code",
      "source": [
        "class employee:\n",
        "  def __init__(self):\n",
        "    self.name=\"harry\"      #public access modifier\n",
        "a=employee()\n",
        "print(a.name)\n",
        "\n",
        "class ename:\n",
        "  def __init__(self):\n",
        "    self.__n=\"sid\"           #private  access modifier\n",
        "b=ename()\n",
        "print(b._ename__n)\n",
        "print(a.__dir__)\n",
        "\n",
        "class studname:\n",
        "  def __init__(self):\n",
        "    self._p=\"parag\"           #protected  access modifier\n",
        "d=studname()\n",
        "print(d._p)\n"
      ],
      "metadata": {
        "colab": {
          "base_uri": "https://localhost:8080/"
        },
        "id": "-WWW6aMpTzT3",
        "outputId": "8c0aba11-d023-4924-e3e2-fd279e88c2fc"
      },
      "execution_count": null,
      "outputs": [
        {
          "output_type": "stream",
          "name": "stdout",
          "text": [
            "harry\n",
            "sid\n",
            "<built-in method __dir__ of employee object at 0x7fe9fb5da830>\n",
            "parag\n"
          ]
        }
      ]
    },
    {
      "cell_type": "markdown",
      "source": [
        "Day 63- Solution of stone paper scissor problem"
      ],
      "metadata": {
        "id": "sYancRUaXpjT"
      }
    },
    {
      "cell_type": "markdown",
      "source": [
        "Day 64- Library management system"
      ],
      "metadata": {
        "id": "zs3wYASKXtYu"
      }
    },
    {
      "cell_type": "code",
      "source": [
        "class Library:\n",
        "  def __init__(self):\n",
        "    self.books = []\n",
        "    self.noBooks = 0\n",
        "\n",
        "  def addBook(self, book):\n",
        "    self.books.append(book)\n",
        "    self.noBooks = len(self.books)\n",
        "\n",
        "  def showInfo(self):\n",
        "    print(f\"The library has {self.noBooks} books. The books are\")\n",
        "    for book in self.books:\n",
        "      print(book)\n",
        "\n",
        "\n",
        "l1 = Library()\n",
        "l1.addBook(\"Harry Potter1\")\n",
        "l1.addBook(\"2 STATES\")\n",
        "l1.addBook(\"The Lord of the rings trilogy\")\n",
        "l1.showInfo()"
      ],
      "metadata": {
        "colab": {
          "base_uri": "https://localhost:8080/"
        },
        "id": "NK_2K0MgXwzL",
        "outputId": "8141ba58-d1c7-49bc-a4f1-56e130d7626f"
      },
      "execution_count": null,
      "outputs": [
        {
          "output_type": "stream",
          "name": "stdout",
          "text": [
            "The library has 3 books. The books are\n",
            "Harry Potter1\n",
            "2 STATES\n",
            "The Lord of the rings trilogy\n"
          ]
        }
      ]
    },
    {
      "cell_type": "code",
      "source": [
        "class lib:\n",
        "  def __init__(self):\n",
        "    self.books=[]\n",
        "    self.nobooks=0\n",
        "  def addbook(self,book):\n",
        "    self.books.append(book)\n",
        "    self.nobooks=len(self.books)\n",
        "  def info(self):\n",
        "    print(f\"the library has {self.nobooks} books. the books are:\")\n",
        "    for book in self.books:\n",
        "      print(book)\n",
        "a=lib()\n",
        "a.addbook(\"harrypotter\")\n",
        "a.addbook(\"lotr\")\n",
        "a.info()"
      ],
      "metadata": {
        "colab": {
          "base_uri": "https://localhost:8080/"
        },
        "id": "OWSVb0F4ifP9",
        "outputId": "93e8aef5-0066-4c6e-fe19-1381ecf96743"
      },
      "execution_count": null,
      "outputs": [
        {
          "output_type": "stream",
          "name": "stdout",
          "text": [
            "the library has 2 books. the books are:\n",
            "harrypotter\n",
            "lotr\n"
          ]
        }
      ]
    },
    {
      "cell_type": "markdown",
      "source": [
        "Day 65- Static methods"
      ],
      "metadata": {
        "id": "0EyXP3exkAgt"
      }
    },
    {
      "cell_type": "code",
      "source": [
        "class math:\n",
        "  def __init__(self,num):\n",
        "    self.num=num\n",
        "\n",
        "  @staticmethod\n",
        "  def add(a,b):\n",
        "    return a+b\n",
        "a=math(6)\n",
        "print(add(7,2))\n",
        "print(math.add(4,5))"
      ],
      "metadata": {
        "colab": {
          "base_uri": "https://localhost:8080/"
        },
        "id": "dJGjgWwukJIv",
        "outputId": "bea8b571-7aa9-4f78-c95d-02b475344821"
      },
      "execution_count": null,
      "outputs": [
        {
          "output_type": "stream",
          "name": "stdout",
          "text": [
            "9\n",
            "9\n"
          ]
        }
      ]
    },
    {
      "cell_type": "markdown",
      "source": [
        "Day 66- Instance variables and class variables"
      ],
      "metadata": {
        "id": "9iuJnMypnUgF"
      }
    },
    {
      "cell_type": "code",
      "source": [
        "class employee:\n",
        "  occupation=\"manager\"      #class variable\n",
        "  noofemployees=0\n",
        "  def __init__(self,name):\n",
        "    employee.noofemployees+=1\n",
        "    self.name=name\n",
        "    self.raise_amount=0.03\n",
        "  def details(self):\n",
        "    print(f\" name of the employee is {self.name} and the raise amount is {self.raise_amount} and occupation is {self.occupation} and sized {self.noofemployees}\")\n",
        "e1=employee(\"harry\")\n",
        "e1.raise_amount=0.4\n",
        "e1.occupation=\"data analyst\"  #instance variable\n",
        "e1.details()\n",
        "e2=employee(\"rohan\")\n",
        "e2.details()"
      ],
      "metadata": {
        "id": "UV6BHUoAnmMR",
        "colab": {
          "base_uri": "https://localhost:8080/"
        },
        "outputId": "615d43de-84b8-4b0f-a37b-00d17e57bd0d"
      },
      "execution_count": null,
      "outputs": [
        {
          "output_type": "stream",
          "name": "stdout",
          "text": [
            " name of the employee is harry and the raise amount is 0.4 and occupation is data analyst and sized 1\n",
            " name of the employee is rohan and the raise amount is 0.03 and occupation is manager and sized 2\n"
          ]
        }
      ]
    },
    {
      "cell_type": "markdown",
      "source": [
        "Day 67- Library management system solution"
      ],
      "metadata": {
        "id": "osHxgBvYdw-O"
      }
    },
    {
      "cell_type": "markdown",
      "source": [
        "Day 68-Clear the clutter"
      ],
      "metadata": {
        "id": "w-WSENOre19V"
      }
    },
    {
      "cell_type": "code",
      "source": [
        "import os\n",
        "file=os.listdir(\"clustered folder\")\n",
        "n=0\n",
        "for i in file:\n",
        "  n=n+1\n",
        "  if i.endswith(\".png\"):\n",
        "   os.rename(f\"clutter/{i}\",f\"clutter/{n}.png\")\n",
        "   print(i)\n"
      ],
      "metadata": {
        "id": "nPcEyHvXhasD"
      },
      "execution_count": null,
      "outputs": []
    },
    {
      "cell_type": "markdown",
      "source": [
        "Day 69- Class methods"
      ],
      "metadata": {
        "id": "SN3Njw0Tt6Tl"
      }
    },
    {
      "cell_type": "code",
      "source": [
        "class company:\n",
        "  company=\"apple\"\n",
        "  name=\"siddhartha\"\n",
        "  def info(self):\n",
        "    print(f\"{self.name} the name of my company is {self.company}\")\n",
        "  def change_company(cls,newcompany):\n",
        "    cls.company=newcompany\n",
        "e1=company()\n",
        "e1.info()\n",
        "e2=company()\n",
        "e2.change_company(\"google\")\n",
        "e2.name=\"harry\"\n",
        "e2.info()"
      ],
      "metadata": {
        "colab": {
          "base_uri": "https://localhost:8080/"
        },
        "id": "vBUpF0utuUW7",
        "outputId": "ab062af9-010b-43fe-9341-1560e422e3b5"
      },
      "execution_count": null,
      "outputs": [
        {
          "output_type": "stream",
          "name": "stdout",
          "text": [
            "siddhartha the name of my company is apple\n",
            "harry the name of my company is google\n"
          ]
        }
      ]
    },
    {
      "cell_type": "markdown",
      "source": [
        "Day 70- Class methods as alternative constructors"
      ],
      "metadata": {
        "id": "U7AlWvPE0HNW"
      }
    },
    {
      "cell_type": "code",
      "source": [
        "class Employee:\n",
        "  def __init__(self, name, salary):\n",
        "    self.name = name\n",
        "    self.salary = salary\n",
        "\n",
        "  @classmethod\n",
        "  def fromStr(cls, string):\n",
        "    return cls(string.split(\"-\")[0], int(string.split(\"-\")[1]))\n",
        "\n",
        "e1 = Employee(\"Harry\", 12000)\n",
        "print(e1.name)\n",
        "print(e1.salary)\n",
        "\n",
        "string = \"John-12000\"\n",
        "e2 = Employee.fromStr(string)\n",
        "print(e2.name)\n",
        "print(e2.salary)\n",
        "\n",
        "class Person:\n",
        "    def __init__(self, name, age):\n",
        "        self.name = name\n",
        "        self.age = age\n",
        "\n",
        "    @classmethod\n",
        "    def string(cls, string):\n",
        "        name, age = string.split(',')\n",
        "        return cls(name, int(age))\n",
        "\n",
        "person = Person.string(\"John Doe,30\")\n",
        "print(person.name, person.age)"
      ],
      "metadata": {
        "colab": {
          "base_uri": "https://localhost:8080/"
        },
        "id": "3QBsmmCR0Tw2",
        "outputId": "5e6a9c7e-0264-48ce-b4da-e4f7b89923ea"
      },
      "execution_count": null,
      "outputs": [
        {
          "output_type": "stream",
          "name": "stdout",
          "text": [
            "Harry\n",
            "12000\n",
            "John\n",
            "12000\n",
            "John Doe 30\n"
          ]
        }
      ]
    },
    {
      "cell_type": "markdown",
      "source": [
        "Day 71- dir,dict,help method"
      ],
      "metadata": {
        "id": "SfGKnvV07iwo"
      }
    },
    {
      "cell_type": "code",
      "source": [
        "x=(1,2,3)\n",
        "print(dir(x))\n",
        "print(x.__class__)\n",
        "print(x.__add__)"
      ],
      "metadata": {
        "colab": {
          "base_uri": "https://localhost:8080/"
        },
        "id": "pvciRDdg71iX",
        "outputId": "c34e5167-c11d-4945-b586-bde9fcd4c279"
      },
      "execution_count": null,
      "outputs": [
        {
          "output_type": "stream",
          "name": "stdout",
          "text": [
            "['__add__', '__class__', '__class_getitem__', '__contains__', '__delattr__', '__dir__', '__doc__', '__eq__', '__format__', '__ge__', '__getattribute__', '__getitem__', '__getnewargs__', '__gt__', '__hash__', '__init__', '__init_subclass__', '__iter__', '__le__', '__len__', '__lt__', '__mul__', '__ne__', '__new__', '__reduce__', '__reduce_ex__', '__repr__', '__rmul__', '__setattr__', '__sizeof__', '__str__', '__subclasshook__', 'count', 'index']\n",
            "<class 'tuple'>\n",
            "<method-wrapper '__add__' of tuple object at 0x7fa1cca25c40>\n"
          ]
        }
      ]
    },
    {
      "cell_type": "code",
      "source": [
        "class person:\n",
        "  def __init__(self,name,age):\n",
        "    self.name=name\n",
        "    self.age=age\n",
        "    self.salary=10000\n",
        "e1=person(\"harry\",12)\n",
        "print(e1.age)\n",
        "print(e1.name)\n",
        "print(e1.__dict__)\n",
        "print(help(person))"
      ],
      "metadata": {
        "colab": {
          "base_uri": "https://localhost:8080/"
        },
        "id": "9VATKgJQ9zCI",
        "outputId": "7f941b1d-6ebe-484c-8f51-b3ae167ce2a6"
      },
      "execution_count": null,
      "outputs": [
        {
          "output_type": "stream",
          "name": "stdout",
          "text": [
            "12\n",
            "harry\n",
            "{'name': 'harry', 'age': 12, 'salary': 10000}\n",
            "Help on class person in module __main__:\n",
            "\n",
            "class person(builtins.object)\n",
            " |  person(name, age)\n",
            " |  \n",
            " |  Methods defined here:\n",
            " |  \n",
            " |  __init__(self, name, age)\n",
            " |      Initialize self.  See help(type(self)) for accurate signature.\n",
            " |  \n",
            " |  ----------------------------------------------------------------------\n",
            " |  Data descriptors defined here:\n",
            " |  \n",
            " |  __dict__\n",
            " |      dictionary for instance variables (if defined)\n",
            " |  \n",
            " |  __weakref__\n",
            " |      list of weak references to the object (if defined)\n",
            "\n",
            "None\n"
          ]
        }
      ]
    },
    {
      "cell_type": "markdown",
      "source": [
        "Day 72-super keyword"
      ],
      "metadata": {
        "id": "Q3UkAhjnTti7"
      }
    },
    {
      "cell_type": "code",
      "source": [
        "class parent:\n",
        "  def parentmethod(self):\n",
        "    print(\"this is a parent method\")\n",
        "\n",
        "class child(parent):\n",
        "   def parentmethod(self):\n",
        "    print(\"siddhubhaiii\")\n",
        "   def childmethod(self):\n",
        "    print(\"harry\")\n",
        "    super().parentmethod()\n",
        "\n",
        "\n",
        "c1=child()\n",
        "c1.childmethod()\n",
        "c1.parentmethod()\n",
        "\n"
      ],
      "metadata": {
        "id": "VIGqw18KNdOd",
        "colab": {
          "base_uri": "https://localhost:8080/"
        },
        "outputId": "bf3194d0-252e-4f3e-8837-a45046d3086e"
      },
      "execution_count": null,
      "outputs": [
        {
          "output_type": "stream",
          "name": "stdout",
          "text": [
            "harry\n",
            "this is a parent method\n",
            "siddhubhaiii\n"
          ]
        }
      ]
    },
    {
      "cell_type": "code",
      "source": [
        "class Employee:\n",
        "  def __init__(self, name, id):\n",
        "    self.name = name\n",
        "    self.id = id\n",
        "\n",
        "class Programmer(Employee):\n",
        "  def __init__(self, name, id, lang):\n",
        "    super().__init__( name, id)\n",
        "    self.lang = lang\n",
        "\n",
        "rohan = Employee(\"Rohan Das\", \"420\")\n",
        "harry = Programmer(\"Harry\", \"2345\", \"Python\")\n",
        "print(harry.name)\n",
        "print(harry.id)\n",
        "print(harry.lang)\n"
      ],
      "metadata": {
        "colab": {
          "base_uri": "https://localhost:8080/"
        },
        "id": "kWTDs0DtcD33",
        "outputId": "bd9bd791-26d5-4f36-b072-e4279a12a8fe"
      },
      "execution_count": null,
      "outputs": [
        {
          "output_type": "stream",
          "name": "stdout",
          "text": [
            "Harry\n",
            "2345\n",
            "Python\n"
          ]
        }
      ]
    },
    {
      "cell_type": "code",
      "source": [
        "class c1:\n",
        "  def __init__(self,name,id):\n",
        "    self.name=name\n",
        "    self.id=id\n",
        "class c2(c1):\n",
        "  def __init__(self,name,id,lang):\n",
        "    super().__init__(name,id)\n",
        "    self.lang=lang\n",
        "o1=c1(\"sid\",\"4200\")\n",
        "o2=c2(\"harry\",\"2341\",\"python\")\n",
        "print(o2.name)\n",
        "print(o2.id)\n",
        "print(o2.lang)\n",
        "\n",
        "\n",
        "\n"
      ],
      "metadata": {
        "colab": {
          "base_uri": "https://localhost:8080/"
        },
        "id": "1hVOFPr7eLIy",
        "outputId": "f83f7072-8cfa-4e1c-f3e6-0afc1184327a"
      },
      "execution_count": null,
      "outputs": [
        {
          "output_type": "stream",
          "name": "stdout",
          "text": [
            "harry\n",
            "2341\n",
            "python\n"
          ]
        }
      ]
    },
    {
      "cell_type": "markdown",
      "source": [
        "Day 73- magic/dunder methods"
      ],
      "metadata": {
        "id": "_c7_T-mgfAYR"
      }
    },
    {
      "cell_type": "code",
      "source": [
        "class emp:\n",
        "  def __init__(self,name):\n",
        "    self.name=name\n",
        "  def __len__(self):\n",
        "    i=0\n",
        "    for c in self.name:\n",
        "      i+=1\n",
        "    return i\n",
        "o1=emp(\"harry\")\n",
        "print(len(o1))\n",
        "print(o1.name)"
      ],
      "metadata": {
        "colab": {
          "base_uri": "https://localhost:8080/"
        },
        "id": "Roupp5NdfADv",
        "outputId": "5378c461-d707-48ce-e76d-c8e7cd9630c0"
      },
      "execution_count": null,
      "outputs": [
        {
          "output_type": "stream",
          "name": "stdout",
          "text": [
            "5\n",
            "harry\n"
          ]
        }
      ]
    },
    {
      "cell_type": "markdown",
      "source": [
        "Day 74- Method overriding"
      ],
      "metadata": {
        "id": "z_aEmPOooCNe"
      }
    },
    {
      "cell_type": "code",
      "source": [
        "class rectangle:\n",
        "  def __init__(self,x,y):\n",
        "    self.x=x\n",
        "    self.y=y\n",
        "  def area(self):\n",
        "    return self.x*self.y\n",
        "class circle:\n",
        "  def __init__(self,radius):\n",
        "    self.radius=radius\n",
        "  def newarea(self):\n",
        "    return 3.14*self.radius*self.radius\n",
        "recarea=rectangle(3,6)\n",
        "print(recarea.area())\n",
        "circlearea=circle(4)\n",
        "print(circlearea.newarea())\n"
      ],
      "metadata": {
        "colab": {
          "base_uri": "https://localhost:8080/"
        },
        "id": "7V53ux4KoEze",
        "outputId": "207ca7dc-0d66-4896-f9f8-e104c1616a93"
      },
      "execution_count": null,
      "outputs": [
        {
          "output_type": "stream",
          "name": "stdout",
          "text": [
            "18\n",
            "50.24\n"
          ]
        }
      ]
    },
    {
      "cell_type": "code",
      "source": [
        "class Shape:\n",
        "  def __init__(self, x, y):\n",
        "    self.x = x\n",
        "    self.y = y\n",
        "\n",
        "  def area(self):\n",
        "      return self.x * self.y\n",
        "\n",
        "class Circle(Shape):\n",
        "    def __init__(self, radius):\n",
        "      self.radius = radius\n",
        "      super().__init__(radius, radius)\n",
        "\n",
        "    def area(self):\n",
        "        return 3.14 *  super().area()\n",
        "\n",
        "# rec = Shape(3, 5)\n",
        "# print(rec.area())\n",
        "\n",
        "c = Circle(5)\n",
        "print(c.area())"
      ],
      "metadata": {
        "id": "6RSBCHShrM6M"
      },
      "execution_count": null,
      "outputs": []
    },
    {
      "cell_type": "markdown",
      "source": [
        "Day 75-solution of os module image name creation(clear the clutter)"
      ],
      "metadata": {
        "id": "xEinpBIRrOXt"
      }
    },
    {
      "cell_type": "markdown",
      "source": [
        "Day 76-merge the pdf"
      ],
      "metadata": {
        "id": "AxGAmOKFrWSi"
      }
    },
    {
      "cell_type": "code",
      "source": [
        "from PyPDF2 import PdfWriter\n",
        "import os\n",
        "\n",
        "merger = PdfWriter()\n",
        "lst = os.listdir('pdf')\n",
        "lst = [\n",
        "  f'pdf/{i}' for i in lst\n",
        "]  #if you want to change merging in pdf pages ,we have to write arrange order of element of this lst.\n",
        "for pdf in lst:\n",
        "  merger.append(pdf)\n",
        "\n",
        "merger.write(\"merged pdf/merged.pdf\")\n",
        "merger.close()\n",
        "print('Done')\n",
        "print('Done')"
      ],
      "metadata": {
        "id": "z2VetiLD4u7l"
      },
      "execution_count": null,
      "outputs": []
    },
    {
      "cell_type": "markdown",
      "source": [
        "Day 77- Operator overloading"
      ],
      "metadata": {
        "id": "CpALIvrYA5FZ"
      }
    },
    {
      "cell_type": "code",
      "source": [
        "class vector:\n",
        "  def __init__(self,i,j,k):\n",
        "    self.i=i\n",
        "    self.j=j\n",
        "    self.k=k\n",
        "  def __add__(self,x):\n",
        "    return vector(self.i+x.i,self.j+x.j,self.k+x.k)\n",
        "  def __str__(self):\n",
        "      return f\"{self.i}i+{self.j}j+{self.k}k\"\n",
        "v=vector(3,4,5)\n",
        "print(v)\n",
        "w=vector(2,4,7)\n",
        "print(w+v)\n",
        "print(type(w+v))"
      ],
      "metadata": {
        "colab": {
          "base_uri": "https://localhost:8080/"
        },
        "id": "2MaztiIKCMT1",
        "outputId": "01a47c23-f700-423f-ca9b-d02825e54c7a"
      },
      "execution_count": null,
      "outputs": [
        {
          "output_type": "stream",
          "name": "stdout",
          "text": [
            "3i+4j+5k\n",
            "5i+8j+12k\n",
            "<class '__main__.vector'>\n"
          ]
        }
      ]
    },
    {
      "cell_type": "markdown",
      "source": [
        "class 79- single inheritance"
      ],
      "metadata": {
        "id": "072NyKspqNTP"
      }
    },
    {
      "cell_type": "code",
      "source": [
        "class animal:\n",
        "  def __init__(self,name,species):\n",
        "    self.name=name\n",
        "    self.species=species\n",
        "  def sound(self):\n",
        "    print(f\"the sound made by the animal\")\n",
        "class dog(animal):\n",
        "  def __init__(self,name,breed):\n",
        "    animal.__init__(self,name,species=\"dog\")\n",
        "    self.breed= breed\n",
        "  def sound(self):\n",
        "    print(\"bark!\")\n",
        "class cat(animal):\n",
        "  def __init__(self,name,breed):\n",
        "    animal.__init__(self,name,species=\"cat\")\n",
        "    self.breed=breed\n",
        "  def sound(self):\n",
        "    print(\"meow\")\n",
        "\n",
        "\n",
        "o1=animal(\"dog\",\"german shepherd\")\n",
        "o1.sound()\n",
        "o2=dog(\"dog\",\"german shepherd\")\n",
        "o2.sound()\n",
        "o3=cat(\"cat\",\"cat\")\n",
        "o3.sound()\n",
        "o3.species"
      ],
      "metadata": {
        "colab": {
          "base_uri": "https://localhost:8080/",
          "height": 88
        },
        "id": "CVf_7S-sqQes",
        "outputId": "df48017c-2c3f-4504-b9fd-109f8d5ac8d9"
      },
      "execution_count": null,
      "outputs": [
        {
          "output_type": "stream",
          "name": "stdout",
          "text": [
            "the sound made by the animal\n",
            "bark!\n",
            "meow\n"
          ]
        },
        {
          "output_type": "execute_result",
          "data": {
            "text/plain": [
              "'cat'"
            ],
            "application/vnd.google.colaboratory.intrinsic+json": {
              "type": "string"
            }
          },
          "metadata": {},
          "execution_count": 19
        }
      ]
    },
    {
      "cell_type": "markdown",
      "source": [
        "Day 79- Multiple inheritance"
      ],
      "metadata": {
        "id": "zEOPWZHUt9gZ"
      }
    },
    {
      "cell_type": "code",
      "source": [
        "class employee:\n",
        "  def __init__(self,name):\n",
        "    self.name=name\n",
        "  def show(self):\n",
        "    print(f\"the name is {self.name}\")\n",
        "class dancer:\n",
        "  def __init__(self,dance):\n",
        "    self.dance=dance\n",
        "  def show(self):\n",
        "    print(f\"the dance is {self.dance}\")\n",
        "class danceremployee(employee,dancer):\n",
        "  def __init__(self,dance,name):\n",
        "    self.dance=dance\n",
        "    self.name=name\n",
        "\n",
        "o1=danceremployee(\"kathak\",\"shivani\")\n",
        "o1.show()\n",
        "print(danceremployee.mro())"
      ],
      "metadata": {
        "colab": {
          "base_uri": "https://localhost:8080/"
        },
        "id": "IqAZ1vZ7uBLT",
        "outputId": "9afbce0e-0ac6-4254-deac-0e48111c18d7"
      },
      "execution_count": null,
      "outputs": [
        {
          "output_type": "stream",
          "name": "stdout",
          "text": [
            "the name is shivani\n",
            "[<class '__main__.danceremployee'>, <class '__main__.employee'>, <class '__main__.dancer'>, <class 'object'>]\n"
          ]
        }
      ]
    },
    {
      "cell_type": "markdown",
      "source": [
        "Day 80- Multilevel inheritance"
      ],
      "metadata": {
        "id": "ycxzunXQ1BQB"
      }
    },
    {
      "cell_type": "code",
      "source": [
        "class Animal:\n",
        "    def __init__(self, name, species):\n",
        "        self.name = name\n",
        "        self.species = species\n",
        "\n",
        "    def show_details(self):\n",
        "        print(f\"Name: {self.name}\")\n",
        "        print(f\"Species: {self.species}\")\n",
        "\n",
        "class Dog(Animal):\n",
        "    def __init__(self, name, breed):\n",
        "        Animal.__init__(self, name, species=\"Dog\")\n",
        "        self.breed = breed\n",
        "\n",
        "    def show_details(self):\n",
        "        Animal.show_details(self)\n",
        "        print(f\"Breed: {self.breed}\")\n",
        "\n",
        "class GoldenRetriever(Dog):\n",
        "    def __init__(self, name, color):\n",
        "        Dog.__init__(self, name, breed=\"Golden Retriever\")\n",
        "        self.color = color\n",
        "\n",
        "    def show_details(self):\n",
        "        Dog.show_details(self)\n",
        "        print(f\"Color: {self.color}\")\n",
        "\n",
        "o = GoldenRetriever(\"tommy\", \"golden\")\n",
        "o.show_details()\n",
        "print(GoldenRetriever.mro())\n",
        "\n"
      ],
      "metadata": {
        "colab": {
          "base_uri": "https://localhost:8080/"
        },
        "id": "-r-dlSgX1EbT",
        "outputId": "aaaac19f-2e25-41b4-a68d-006dba7896e5"
      },
      "execution_count": null,
      "outputs": [
        {
          "output_type": "stream",
          "name": "stdout",
          "text": [
            "Name: tommy\n",
            "Species: Dog\n",
            "Breed: Golden Retriever\n",
            "Color: golden\n",
            "[<class '__main__.GoldenRetriever'>, <class '__main__.Dog'>, <class '__main__.Animal'>, <class 'object'>]\n"
          ]
        }
      ]
    },
    {
      "cell_type": "markdown",
      "source": [
        "Day 81-Hybrid and hierarchical inheritance  "
      ],
      "metadata": {
        "id": "PbYULg0l9ufA"
      }
    },
    {
      "cell_type": "code",
      "source": [
        "class Animal:                                  #hierarchical inheritance\n",
        "    def __init__(self, name):\n",
        "        self.name = name\n",
        "\n",
        "    def eat(self):\n",
        "        print(f\"{self.name} is eating.\")\n",
        "\n",
        "class Dog(Animal):\n",
        "    def bark(self):\n",
        "        print(f\"{self.name} is barking.\")\n",
        "\n",
        "class Cat(Animal):\n",
        "    def meow(self):\n",
        "        print(f\"{self.name} is meowing.\")\n",
        "\n",
        "class Lion(Animal):\n",
        "    def roar(self):\n",
        "        print(f\"{self.name} is roaring.\")\n",
        "dog = Dog(\"Buddy\")\n",
        "cat = Cat(\"Kitty\")\n",
        "lion = Lion(\"Simba\")\n",
        "dog.eat()\n",
        "dog.bark()\n",
        "\n",
        "cat.eat()\n",
        "cat.meow()\n",
        "\n",
        "lion.eat()\n",
        "lion.roar()\n"
      ],
      "metadata": {
        "colab": {
          "base_uri": "https://localhost:8080/"
        },
        "id": "EcwuIF3m93jh",
        "outputId": "264e2a24-8ff0-4e5f-d40d-6164f4c41523"
      },
      "execution_count": null,
      "outputs": [
        {
          "output_type": "stream",
          "name": "stdout",
          "text": [
            "Buddy is eating.\n",
            "Buddy is barking.\n",
            "Kitty is eating.\n",
            "Kitty is meowing.\n",
            "Simba is eating.\n",
            "Simba is roaring.\n"
          ]
        }
      ]
    },
    {
      "cell_type": "code",
      "source": [
        "class Animal:                                     # hybrid inheritance\n",
        "    def __init__(self, name):\n",
        "        self.name = name\n",
        "\n",
        "    def eat(self):\n",
        "        print(f\"{self.name} is eating.\")\n",
        "\n",
        "class Mammal(Animal):\n",
        "    def run(self):\n",
        "        print(f\"{self.name} is running.\")\n",
        "\n",
        "class Bird(Animal):\n",
        "    def fly(self):\n",
        "        print(f\"{self.name} is flying.\")\n",
        "\n",
        "class Bat(Mammal, Bird):\n",
        "    def sleep(self):\n",
        "        print(f\"{self.name} is sleeping.\")\n",
        "\n",
        "class Dog(Mammal):\n",
        "    def bark(self):\n",
        "        print(f\"{self.name} is barking.\")\n",
        "\n",
        "class Parrot(Bird):\n",
        "    def talk(self):\n",
        "        print(f\"{self.name} is talking.\")\n",
        "\n",
        "# Creating instances of derived classes\n",
        "bat = Bat(\"Batty\")\n",
        "dog = Dog(\"Buddy\")\n",
        "parrot = Parrot(\"Polly\")\n",
        "\n",
        "# Calling methods\n",
        "bat.eat()\n",
        "bat.run()\n",
        "bat.fly()\n",
        "bat.sleep()\n",
        "\n",
        "dog.eat()\n",
        "dog.run()\n",
        "dog.bark()\n",
        "\n",
        "parrot.eat()\n",
        "parrot.fly()\n",
        "parrot.talk()\n"
      ],
      "metadata": {
        "id": "ipMdyh6B-rfi"
      },
      "execution_count": null,
      "outputs": []
    },
    {
      "cell_type": "markdown",
      "source": [
        "Day 82- Solution of merge the pdf"
      ],
      "metadata": {
        "id": "xMSXFsZg_Hl7"
      }
    },
    {
      "cell_type": "markdown",
      "source": [
        "Day 83- Shoutouts to everyone ,text to speech in python"
      ],
      "metadata": {
        "id": "SDMuKUekFUos"
      }
    },
    {
      "cell_type": "code",
      "source": [
        "pip install gtts"
      ],
      "metadata": {
        "id": "HwzfCzpG_KtG",
        "colab": {
          "base_uri": "https://localhost:8080/"
        },
        "outputId": "e14756b9-4ca9-478c-efb8-1adf0fb69de4"
      },
      "execution_count": null,
      "outputs": [
        {
          "output_type": "stream",
          "name": "stdout",
          "text": [
            "Looking in indexes: https://pypi.org/simple, https://us-python.pkg.dev/colab-wheels/public/simple/\n",
            "Collecting gtts\n",
            "  Downloading gTTS-2.3.2-py3-none-any.whl (28 kB)\n",
            "Requirement already satisfied: requests<3,>=2.27 in /usr/local/lib/python3.10/dist-packages (from gtts) (2.27.1)\n",
            "Requirement already satisfied: click<8.2,>=7.1 in /usr/local/lib/python3.10/dist-packages (from gtts) (8.1.3)\n",
            "Requirement already satisfied: urllib3<1.27,>=1.21.1 in /usr/local/lib/python3.10/dist-packages (from requests<3,>=2.27->gtts) (1.26.16)\n",
            "Requirement already satisfied: certifi>=2017.4.17 in /usr/local/lib/python3.10/dist-packages (from requests<3,>=2.27->gtts) (2023.5.7)\n",
            "Requirement already satisfied: charset-normalizer~=2.0.0 in /usr/local/lib/python3.10/dist-packages (from requests<3,>=2.27->gtts) (2.0.12)\n",
            "Requirement already satisfied: idna<4,>=2.5 in /usr/local/lib/python3.10/dist-packages (from requests<3,>=2.27->gtts) (3.4)\n",
            "Installing collected packages: gtts\n",
            "Successfully installed gtts-2.3.2\n"
          ]
        }
      ]
    },
    {
      "cell_type": "code",
      "source": [
        "pip install playsound"
      ],
      "metadata": {
        "colab": {
          "base_uri": "https://localhost:8080/"
        },
        "id": "eNssI14DAdD2",
        "outputId": "6be5b143-4320-4fed-fcb8-5ec4cf47c250"
      },
      "execution_count": null,
      "outputs": [
        {
          "output_type": "stream",
          "name": "stdout",
          "text": [
            "Looking in indexes: https://pypi.org/simple, https://us-python.pkg.dev/colab-wheels/public/simple/\n",
            "Collecting playsound\n",
            "  Downloading playsound-1.3.0.tar.gz (7.7 kB)\n",
            "  Preparing metadata (setup.py) ... \u001b[?25l\u001b[?25hdone\n",
            "Building wheels for collected packages: playsound\n",
            "  Building wheel for playsound (setup.py) ... \u001b[?25l\u001b[?25hdone\n",
            "  Created wheel for playsound: filename=playsound-1.3.0-py3-none-any.whl size=7019 sha256=150f3ec7e6aa452997064ea603a27b252ea5db734a321880881d606b2e9c5bed\n",
            "  Stored in directory: /root/.cache/pip/wheels/90/89/ed/2d643f4226fc8c7c9156fc28abd8051e2d2c0de37ae51ac45c\n",
            "Successfully built playsound\n",
            "Installing collected packages: playsound\n",
            "Successfully installed playsound-1.3.0\n"
          ]
        }
      ]
    },
    {
      "cell_type": "code",
      "source": [
        "!pip install gTTS"
      ],
      "metadata": {
        "colab": {
          "base_uri": "https://localhost:8080/"
        },
        "id": "Fjz06fF4Ai0M",
        "outputId": "507fc6ed-d3a2-467c-cd99-23647c860155"
      },
      "execution_count": null,
      "outputs": [
        {
          "output_type": "stream",
          "name": "stdout",
          "text": [
            "Looking in indexes: https://pypi.org/simple, https://us-python.pkg.dev/colab-wheels/public/simple/\n",
            "Requirement already satisfied: gTTS in /usr/local/lib/python3.10/dist-packages (2.3.2)\n",
            "Requirement already satisfied: requests<3,>=2.27 in /usr/local/lib/python3.10/dist-packages (from gTTS) (2.27.1)\n",
            "Requirement already satisfied: click<8.2,>=7.1 in /usr/local/lib/python3.10/dist-packages (from gTTS) (8.1.3)\n",
            "Requirement already satisfied: urllib3<1.27,>=1.21.1 in /usr/local/lib/python3.10/dist-packages (from requests<3,>=2.27->gTTS) (1.26.16)\n",
            "Requirement already satisfied: certifi>=2017.4.17 in /usr/local/lib/python3.10/dist-packages (from requests<3,>=2.27->gTTS) (2023.5.7)\n",
            "Requirement already satisfied: charset-normalizer~=2.0.0 in /usr/local/lib/python3.10/dist-packages (from requests<3,>=2.27->gTTS) (2.0.12)\n",
            "Requirement already satisfied: idna<4,>=2.5 in /usr/local/lib/python3.10/dist-packages (from requests<3,>=2.27->gTTS) (3.4)\n"
          ]
        }
      ]
    },
    {
      "cell_type": "code",
      "source": [
        "import gtts             #this code works\n",
        "import playsound\n",
        "\n",
        "text=input(\"enter the text:\")\n",
        "sound=gtts.gTTS(text,lang=\"en\")\n",
        "sound.save(\"welcome.mp3\")\n",
        "playsound.playsound(\"welcome.mp3\")\n"
      ],
      "metadata": {
        "colab": {
          "base_uri": "https://localhost:8080/",
          "height": 383
        },
        "id": "3aKwc3bDCHAu",
        "outputId": "a8eeee84-282e-4bd0-aa6a-19f56862d6d8"
      },
      "execution_count": null,
      "outputs": [
        {
          "name": "stdout",
          "output_type": "stream",
          "text": [
            "enter the text:hello adreesh doctor babu.this is a git from siddhartha dhar.this is to inform you that you are a hetachuda and will be a hetachuda here after .this is created by the Siddhartha dhar using nlp techniques in python. thank you bhosdike.\n"
          ]
        },
        {
          "output_type": "error",
          "ename": "CalledProcessError",
          "evalue": "ignored",
          "traceback": [
            "\u001b[0;31m---------------------------------------------------------------------------\u001b[0m",
            "\u001b[0;31mCalledProcessError\u001b[0m                        Traceback (most recent call last)",
            "\u001b[0;32m<ipython-input-13-4cbe913e84bd>\u001b[0m in \u001b[0;36m<cell line: 7>\u001b[0;34m()\u001b[0m\n\u001b[1;32m      5\u001b[0m \u001b[0msound\u001b[0m\u001b[0;34m=\u001b[0m\u001b[0mgtts\u001b[0m\u001b[0;34m.\u001b[0m\u001b[0mgTTS\u001b[0m\u001b[0;34m(\u001b[0m\u001b[0mtext\u001b[0m\u001b[0;34m,\u001b[0m\u001b[0mlang\u001b[0m\u001b[0;34m=\u001b[0m\u001b[0;34m\"en\"\u001b[0m\u001b[0;34m)\u001b[0m\u001b[0;34m\u001b[0m\u001b[0;34m\u001b[0m\u001b[0m\n\u001b[1;32m      6\u001b[0m \u001b[0msound\u001b[0m\u001b[0;34m.\u001b[0m\u001b[0msave\u001b[0m\u001b[0;34m(\u001b[0m\u001b[0;34m\"welcome.mp3\"\u001b[0m\u001b[0;34m)\u001b[0m\u001b[0;34m\u001b[0m\u001b[0;34m\u001b[0m\u001b[0m\n\u001b[0;32m----> 7\u001b[0;31m \u001b[0mplaysound\u001b[0m\u001b[0;34m.\u001b[0m\u001b[0mplaysound\u001b[0m\u001b[0;34m(\u001b[0m\u001b[0;34m\"welcome.mp3\"\u001b[0m\u001b[0;34m)\u001b[0m\u001b[0;34m\u001b[0m\u001b[0;34m\u001b[0m\u001b[0m\n\u001b[0m",
            "\u001b[0;32m/usr/local/lib/python3.10/dist-packages/playsound.py\u001b[0m in \u001b[0;36m<lambda>\u001b[0;34m(sound, block)\u001b[0m\n\u001b[1;32m    252\u001b[0m         \u001b[0;32mexcept\u001b[0m\u001b[0;34m:\u001b[0m\u001b[0;34m\u001b[0m\u001b[0;34m\u001b[0m\u001b[0m\n\u001b[1;32m    253\u001b[0m             \u001b[0mlogger\u001b[0m\u001b[0;34m.\u001b[0m\u001b[0mwarning\u001b[0m\u001b[0;34m(\u001b[0m\u001b[0;34m\"playsound is relying on another python subprocess. Please use `pip install pygobject` if you want playsound to run more efficiently.\"\u001b[0m\u001b[0;34m)\u001b[0m\u001b[0;34m\u001b[0m\u001b[0;34m\u001b[0m\u001b[0m\n\u001b[0;32m--> 254\u001b[0;31m             \u001b[0mplaysound\u001b[0m \u001b[0;34m=\u001b[0m \u001b[0;32mlambda\u001b[0m \u001b[0msound\u001b[0m\u001b[0;34m,\u001b[0m \u001b[0mblock\u001b[0m \u001b[0;34m=\u001b[0m \u001b[0;32mTrue\u001b[0m\u001b[0;34m:\u001b[0m \u001b[0m_playsoundAnotherPython\u001b[0m\u001b[0;34m(\u001b[0m\u001b[0;34m'/usr/bin/python3'\u001b[0m\u001b[0;34m,\u001b[0m \u001b[0msound\u001b[0m\u001b[0;34m,\u001b[0m \u001b[0mblock\u001b[0m\u001b[0;34m,\u001b[0m \u001b[0mmacOS\u001b[0m \u001b[0;34m=\u001b[0m \u001b[0;32mFalse\u001b[0m\u001b[0;34m)\u001b[0m\u001b[0;34m\u001b[0m\u001b[0;34m\u001b[0m\u001b[0m\n\u001b[0m\u001b[1;32m    255\u001b[0m \u001b[0;34m\u001b[0m\u001b[0m\n\u001b[1;32m    256\u001b[0m \u001b[0;32mdel\u001b[0m \u001b[0msystem\u001b[0m\u001b[0;34m\u001b[0m\u001b[0;34m\u001b[0m\u001b[0m\n",
            "\u001b[0;32m/usr/local/lib/python3.10/dist-packages/playsound.py\u001b[0m in \u001b[0;36m_playsoundAnotherPython\u001b[0;34m(otherPython, sound, block, macOS)\u001b[0m\n\u001b[1;32m    227\u001b[0m     \u001b[0mt\u001b[0m\u001b[0;34m.\u001b[0m\u001b[0mstart\u001b[0m\u001b[0;34m(\u001b[0m\u001b[0;34m)\u001b[0m\u001b[0;34m\u001b[0m\u001b[0;34m\u001b[0m\u001b[0m\n\u001b[1;32m    228\u001b[0m     \u001b[0;32mif\u001b[0m \u001b[0mblock\u001b[0m\u001b[0;34m:\u001b[0m\u001b[0;34m\u001b[0m\u001b[0;34m\u001b[0m\u001b[0m\n\u001b[0;32m--> 229\u001b[0;31m         \u001b[0mt\u001b[0m\u001b[0;34m.\u001b[0m\u001b[0mjoin\u001b[0m\u001b[0;34m(\u001b[0m\u001b[0;34m)\u001b[0m\u001b[0;34m\u001b[0m\u001b[0;34m\u001b[0m\u001b[0m\n\u001b[0m\u001b[1;32m    230\u001b[0m \u001b[0;34m\u001b[0m\u001b[0m\n\u001b[1;32m    231\u001b[0m \u001b[0;32mfrom\u001b[0m \u001b[0mplatform\u001b[0m \u001b[0;32mimport\u001b[0m \u001b[0msystem\u001b[0m\u001b[0;34m\u001b[0m\u001b[0;34m\u001b[0m\u001b[0m\n",
            "\u001b[0;32m/usr/local/lib/python3.10/dist-packages/playsound.py\u001b[0m in \u001b[0;36mjoin\u001b[0;34m(self, timeout)\u001b[0m\n\u001b[1;32m    216\u001b[0m             \u001b[0msuper\u001b[0m\u001b[0;34m(\u001b[0m\u001b[0;34m)\u001b[0m\u001b[0;34m.\u001b[0m\u001b[0mjoin\u001b[0m\u001b[0;34m(\u001b[0m\u001b[0mtimeout\u001b[0m\u001b[0;34m)\u001b[0m\u001b[0;34m\u001b[0m\u001b[0;34m\u001b[0m\u001b[0m\n\u001b[1;32m    217\u001b[0m             \u001b[0;32mif\u001b[0m \u001b[0mself\u001b[0m\u001b[0;34m.\u001b[0m\u001b[0mexc\u001b[0m\u001b[0;34m:\u001b[0m\u001b[0;34m\u001b[0m\u001b[0;34m\u001b[0m\u001b[0m\n\u001b[0;32m--> 218\u001b[0;31m                 \u001b[0;32mraise\u001b[0m \u001b[0mself\u001b[0m\u001b[0;34m.\u001b[0m\u001b[0mexc\u001b[0m\u001b[0;34m\u001b[0m\u001b[0;34m\u001b[0m\u001b[0m\n\u001b[0m\u001b[1;32m    219\u001b[0m             \u001b[0;32mreturn\u001b[0m \u001b[0mself\u001b[0m\u001b[0;34m.\u001b[0m\u001b[0mret\u001b[0m\u001b[0;34m\u001b[0m\u001b[0;34m\u001b[0m\u001b[0m\n\u001b[1;32m    220\u001b[0m \u001b[0;34m\u001b[0m\u001b[0m\n",
            "\u001b[0;32m/usr/local/lib/python3.10/dist-packages/playsound.py\u001b[0m in \u001b[0;36mrun\u001b[0;34m(self)\u001b[0m\n\u001b[1;32m    209\u001b[0m             \u001b[0mself\u001b[0m\u001b[0;34m.\u001b[0m\u001b[0mexc\u001b[0m \u001b[0;34m=\u001b[0m \u001b[0;32mNone\u001b[0m\u001b[0;34m\u001b[0m\u001b[0;34m\u001b[0m\u001b[0m\n\u001b[1;32m    210\u001b[0m             \u001b[0;32mtry\u001b[0m\u001b[0;34m:\u001b[0m\u001b[0;34m\u001b[0m\u001b[0;34m\u001b[0m\u001b[0m\n\u001b[0;32m--> 211\u001b[0;31m                 \u001b[0mself\u001b[0m\u001b[0;34m.\u001b[0m\u001b[0mret\u001b[0m \u001b[0;34m=\u001b[0m \u001b[0mself\u001b[0m\u001b[0;34m.\u001b[0m\u001b[0m_target\u001b[0m\u001b[0;34m(\u001b[0m\u001b[0;34m*\u001b[0m\u001b[0mself\u001b[0m\u001b[0;34m.\u001b[0m\u001b[0m_args\u001b[0m\u001b[0;34m,\u001b[0m \u001b[0;34m**\u001b[0m\u001b[0mself\u001b[0m\u001b[0;34m.\u001b[0m\u001b[0m_kwargs\u001b[0m\u001b[0;34m)\u001b[0m\u001b[0;34m\u001b[0m\u001b[0;34m\u001b[0m\u001b[0m\n\u001b[0m\u001b[1;32m    212\u001b[0m             \u001b[0;32mexcept\u001b[0m \u001b[0mBaseException\u001b[0m \u001b[0;32mas\u001b[0m \u001b[0me\u001b[0m\u001b[0;34m:\u001b[0m\u001b[0;34m\u001b[0m\u001b[0;34m\u001b[0m\u001b[0m\n\u001b[1;32m    213\u001b[0m                 \u001b[0mself\u001b[0m\u001b[0;34m.\u001b[0m\u001b[0mexc\u001b[0m \u001b[0;34m=\u001b[0m \u001b[0me\u001b[0m\u001b[0;34m\u001b[0m\u001b[0;34m\u001b[0m\u001b[0m\n",
            "\u001b[0;32m/usr/local/lib/python3.10/dist-packages/playsound.py\u001b[0m in \u001b[0;36m<lambda>\u001b[0;34m()\u001b[0m\n\u001b[1;32m    224\u001b[0m \u001b[0;34m\u001b[0m\u001b[0m\n\u001b[1;32m    225\u001b[0m     \u001b[0mplaysoundPath\u001b[0m \u001b[0;34m=\u001b[0m \u001b[0mabspath\u001b[0m\u001b[0;34m(\u001b[0m\u001b[0mgetsourcefile\u001b[0m\u001b[0;34m(\u001b[0m\u001b[0;32mlambda\u001b[0m\u001b[0;34m:\u001b[0m \u001b[0;36m0\u001b[0m\u001b[0;34m)\u001b[0m\u001b[0;34m)\u001b[0m\u001b[0;34m\u001b[0m\u001b[0;34m\u001b[0m\u001b[0m\n\u001b[0;32m--> 226\u001b[0;31m     \u001b[0mt\u001b[0m \u001b[0;34m=\u001b[0m \u001b[0mPropogatingThread\u001b[0m\u001b[0;34m(\u001b[0m\u001b[0mtarget\u001b[0m \u001b[0;34m=\u001b[0m \u001b[0;32mlambda\u001b[0m\u001b[0;34m:\u001b[0m \u001b[0mcheck_call\u001b[0m\u001b[0;34m(\u001b[0m\u001b[0;34m[\u001b[0m\u001b[0motherPython\u001b[0m\u001b[0;34m,\u001b[0m \u001b[0mplaysoundPath\u001b[0m\u001b[0;34m,\u001b[0m \u001b[0m_handlePathOSX\u001b[0m\u001b[0;34m(\u001b[0m\u001b[0msound\u001b[0m\u001b[0;34m)\u001b[0m \u001b[0;32mif\u001b[0m \u001b[0mmacOS\u001b[0m \u001b[0;32melse\u001b[0m \u001b[0msound\u001b[0m\u001b[0;34m]\u001b[0m\u001b[0;34m)\u001b[0m\u001b[0;34m)\u001b[0m\u001b[0;34m\u001b[0m\u001b[0;34m\u001b[0m\u001b[0m\n\u001b[0m\u001b[1;32m    227\u001b[0m     \u001b[0mt\u001b[0m\u001b[0;34m.\u001b[0m\u001b[0mstart\u001b[0m\u001b[0;34m(\u001b[0m\u001b[0;34m)\u001b[0m\u001b[0;34m\u001b[0m\u001b[0;34m\u001b[0m\u001b[0m\n\u001b[1;32m    228\u001b[0m     \u001b[0;32mif\u001b[0m \u001b[0mblock\u001b[0m\u001b[0;34m:\u001b[0m\u001b[0;34m\u001b[0m\u001b[0;34m\u001b[0m\u001b[0m\n",
            "\u001b[0;32m/usr/lib/python3.10/subprocess.py\u001b[0m in \u001b[0;36mcheck_call\u001b[0;34m(*popenargs, **kwargs)\u001b[0m\n\u001b[1;32m    367\u001b[0m         \u001b[0;32mif\u001b[0m \u001b[0mcmd\u001b[0m \u001b[0;32mis\u001b[0m \u001b[0;32mNone\u001b[0m\u001b[0;34m:\u001b[0m\u001b[0;34m\u001b[0m\u001b[0;34m\u001b[0m\u001b[0m\n\u001b[1;32m    368\u001b[0m             \u001b[0mcmd\u001b[0m \u001b[0;34m=\u001b[0m \u001b[0mpopenargs\u001b[0m\u001b[0;34m[\u001b[0m\u001b[0;36m0\u001b[0m\u001b[0;34m]\u001b[0m\u001b[0;34m\u001b[0m\u001b[0;34m\u001b[0m\u001b[0m\n\u001b[0;32m--> 369\u001b[0;31m         \u001b[0;32mraise\u001b[0m \u001b[0mCalledProcessError\u001b[0m\u001b[0;34m(\u001b[0m\u001b[0mretcode\u001b[0m\u001b[0;34m,\u001b[0m \u001b[0mcmd\u001b[0m\u001b[0;34m)\u001b[0m\u001b[0;34m\u001b[0m\u001b[0;34m\u001b[0m\u001b[0m\n\u001b[0m\u001b[1;32m    370\u001b[0m     \u001b[0;32mreturn\u001b[0m \u001b[0;36m0\u001b[0m\u001b[0;34m\u001b[0m\u001b[0;34m\u001b[0m\u001b[0m\n\u001b[1;32m    371\u001b[0m \u001b[0;34m\u001b[0m\u001b[0m\n",
            "\u001b[0;31mCalledProcessError\u001b[0m: Command '['/usr/bin/python3', '/usr/local/lib/python3.10/dist-packages/playsound.py', 'welcome.mp3']' returned non-zero exit status 1."
          ]
        }
      ]
    },
    {
      "cell_type": "markdown",
      "source": [
        "Day 84-time module"
      ],
      "metadata": {
        "id": "19Q4rg2PFI9t"
      }
    },
    {
      "cell_type": "code",
      "source": [
        "import time\n",
        "def ran():\n",
        "  for i in range(1,10,2):\n",
        "    print(i)\n",
        "init=time.time()   #start time-init,time.time refers to end time\n",
        "ran()\n",
        "print(time.time()-init)\n",
        "\n"
      ],
      "metadata": {
        "colab": {
          "base_uri": "https://localhost:8080/"
        },
        "id": "wodBZU02WSuj",
        "outputId": "09e6ce95-d706-4cdd-af72-190b555ba4f0"
      },
      "execution_count": null,
      "outputs": [
        {
          "output_type": "stream",
          "name": "stdout",
          "text": [
            "1\n",
            "3\n",
            "5\n",
            "7\n",
            "9\n",
            "0.0029795169830322266\n"
          ]
        }
      ]
    },
    {
      "cell_type": "code",
      "source": [
        "print(4)\n",
        "time.sleep(2)\n",
        "print(\"this will be printed after 3 secs\")\n",
        "t=time.localtime()\n",
        "newtime=time.strftime(\"%d-%m-%Y %H:%M:%S\",t)\n",
        "print(newtime)"
      ],
      "metadata": {
        "colab": {
          "base_uri": "https://localhost:8080/"
        },
        "id": "UHastc0Gs8Up",
        "outputId": "bba60910-3919-49d2-c2be-b81555b30a85"
      },
      "execution_count": null,
      "outputs": [
        {
          "output_type": "stream",
          "name": "stdout",
          "text": [
            "4\n",
            "this will be printed after 3 secs\n",
            "27-06-2023 07:18:28\n"
          ]
        }
      ]
    },
    {
      "cell_type": "markdown",
      "source": [
        "Day 85- command line utility"
      ],
      "metadata": {
        "id": "VnrtLNAKu9pi"
      }
    },
    {
      "cell_type": "code",
      "source": [
        "import argparse\n",
        "import requests\n",
        "\n",
        "def download_file(url, local_filename):\n",
        "  if local_filename is None:\n",
        "    local_filename = url.split('/')[-1]\n",
        "  with requests.get(url, stream=True) as r:\n",
        "      r.raise_for_status()\n",
        "      with open(local_filename, 'wb') as f:\n",
        "          for chunk in r.iter_content(chunk_size=8192):\n",
        "              # If you have chunk encoded response uncomment if\n",
        "              # and set chunk_size parameter to None.\n",
        "              #if chunk:\n",
        "              f.write(chunk)\n",
        "  return local_filename\n",
        "\n",
        "parser = argparse.ArgumentParser()\n",
        "\n",
        "# Add command line arguments\n",
        "parser.add_argument(\"url\", help=\"Url of the file to download\")\n",
        "# parser.add_argument(\"output\", help=\"by which name do you want to save your file\")\n",
        "parser.add_argument(\"-o\", \"--output\", type=str, help=\"Name of the file\", default=None)\n",
        "\n",
        "# Parse the arguments\n",
        "args = parser.parse_args()\n",
        "\n",
        "# Use the arguments in your code\n",
        "print(args.url)\n",
        "print(args.output, type(args.output))\n",
        "download_file(args.url, args.output)"
      ],
      "metadata": {
        "id": "TJwCsdIMtWyz"
      },
      "execution_count": null,
      "outputs": []
    },
    {
      "cell_type": "markdown",
      "source": [
        "Day 86- Walrus operator"
      ],
      "metadata": {
        "id": "WQktwYfEyHod"
      }
    },
    {
      "cell_type": "code",
      "source": [
        "list1=[1,2,3,4,5]\n",
        "while (n:=len(list1)>0):\n",
        "  print(list1.pop())\n",
        "\n",
        "a=[1,2,3,4,5]\n",
        "print(a:=[1,4,5,6,7])\n",
        "\n",
        "foods=list()\n",
        "while(foodslist:= input(\"what food would you like to have?:\"))!='quit':\n",
        "  foods.append(foodslist)"
      ],
      "metadata": {
        "colab": {
          "base_uri": "https://localhost:8080/"
        },
        "id": "RqNy-nnsyKSr",
        "outputId": "3f8ab3fd-adb6-4130-dc26-38db8249aed5"
      },
      "execution_count": null,
      "outputs": [
        {
          "name": "stdout",
          "output_type": "stream",
          "text": [
            "5\n",
            "4\n",
            "3\n",
            "2\n",
            "1\n",
            "[1, 4, 5, 6, 7]\n",
            "what food would you like to have?:apple\n",
            "what food would you like to have?:mango\n",
            "what food would you like to have?:pizza\n",
            "what food would you like to have?:quit\n"
          ]
        }
      ]
    },
    {
      "cell_type": "markdown",
      "source": [
        "Day 87- Shutil module"
      ],
      "metadata": {
        "id": "LhkkfUNx0Qbw"
      }
    },
    {
      "cell_type": "code",
      "source": [
        "import shutil\n",
        "shutil.copy(\"main.py\",\"main2.py\")   #copy the contents of main.py to main2.py\n",
        "shutil.move(\"covers/1.jpg\",\"songs/1.jpg\") # to move a file from covers folder to songs folder\n",
        "shutil.copytree(\"tutorial\",\"mytutorial\")  #to make a copy of the whole folder tutorial to mytutorial"
      ],
      "metadata": {
        "id": "7ybPpEOU07LF"
      },
      "execution_count": null,
      "outputs": []
    },
    {
      "cell_type": "markdown",
      "source": [
        "Day 88- solution of text to sppech(solutions to everyone)"
      ],
      "metadata": {
        "id": "rQGm-_lvDKng"
      }
    },
    {
      "cell_type": "markdown",
      "source": [
        "Day 89- Requests module in python **bold text**"
      ],
      "metadata": {
        "id": "NIstcueZCevN"
      }
    },
    {
      "cell_type": "code",
      "source": [
        "pip install requests"
      ],
      "metadata": {
        "colab": {
          "base_uri": "https://localhost:8080/"
        },
        "id": "i4cUGkMvCo61",
        "outputId": "53eeb7b5-b66f-498c-9074-fa73ae3be54f"
      },
      "execution_count": null,
      "outputs": [
        {
          "output_type": "stream",
          "name": "stdout",
          "text": [
            "Requirement already satisfied: requests in /usr/local/lib/python3.10/dist-packages (2.27.1)\n",
            "Requirement already satisfied: urllib3<1.27,>=1.21.1 in /usr/local/lib/python3.10/dist-packages (from requests) (1.26.16)\n",
            "Requirement already satisfied: certifi>=2017.4.17 in /usr/local/lib/python3.10/dist-packages (from requests) (2023.5.7)\n",
            "Requirement already satisfied: charset-normalizer~=2.0.0 in /usr/local/lib/python3.10/dist-packages (from requests) (2.0.12)\n",
            "Requirement already satisfied: idna<4,>=2.5 in /usr/local/lib/python3.10/dist-packages (from requests) (3.4)\n"
          ]
        }
      ]
    },
    {
      "cell_type": "code",
      "source": [
        "import requests\n",
        "from bs4 import BeautifulSoup\n",
        "url='https://www.linkedin.com/in/siddhartha-dhar-443b961b6/'\n",
        "x=requests.get(url)\n",
        "print(x.text)\n",
        "soup= BeautifulSoup(x.text,'html.parser')\n",
        "print(soup.prettify())\n"
      ],
      "metadata": {
        "colab": {
          "base_uri": "https://localhost:8080/"
        },
        "id": "nuZREj8TX3qX",
        "outputId": "d663f203-457e-4dca-8604-4ec3af1e9a21"
      },
      "execution_count": null,
      "outputs": [
        {
          "output_type": "stream",
          "name": "stdout",
          "text": [
            "<html><head>\n",
            "<script type=\"text/javascript\">\n",
            "window.onload = function() {\n",
            "  // Parse the tracking code from cookies.\n",
            "  var trk = \"bf\";\n",
            "  var trkInfo = \"bf\";\n",
            "  var cookies = document.cookie.split(\"; \");\n",
            "  for (var i = 0; i < cookies.length; ++i) {\n",
            "    if ((cookies[i].indexOf(\"trkCode=\") == 0) && (cookies[i].length > 8)) {\n",
            "      trk = cookies[i].substring(8);\n",
            "    }\n",
            "    else if ((cookies[i].indexOf(\"trkInfo=\") == 0) && (cookies[i].length > 8)) {\n",
            "      trkInfo = cookies[i].substring(8);\n",
            "    }\n",
            "  }\n",
            "\n",
            "  if (window.location.protocol == \"http:\") {\n",
            "    // If \"sl\" cookie is set, redirect to https.\n",
            "    for (var i = 0; i < cookies.length; ++i) {\n",
            "      if ((cookies[i].indexOf(\"sl=\") == 0) && (cookies[i].length > 3)) {\n",
            "        window.location.href = \"https:\" + window.location.href.substring(window.location.protocol.length);\n",
            "        return;\n",
            "      }\n",
            "    }\n",
            "  }\n",
            "\n",
            "  // Get the new domain. For international domains such as\n",
            "  // fr.linkedin.com, we convert it to www.linkedin.com\n",
            "  // treat .cn similar to .com here\n",
            "  var domain = location.host;\n",
            "  if (domain != \"www.linkedin.com\" && domain != \"www.linkedin.cn\") {\n",
            "    var subdomainIndex = location.host.indexOf(\".linkedin\");\n",
            "    if (subdomainIndex != -1) {\n",
            "      domain = \"www\" + location.host.substring(subdomainIndex);\n",
            "    }\n",
            "  }\n",
            "\n",
            "  window.location.href = \"https://\" + domain + \"/authwall?trk=\" + trk + \"&trkInfo=\" + trkInfo +\n",
            "      \"&original_referer=\" + document.referrer.substr(0, 200) +\n",
            "      \"&sessionRedirect=\" + encodeURIComponent(window.location.href);\n",
            "}\n",
            "</script>\n",
            "</head></html>\n",
            "\n",
            "<html>\n",
            " <head>\n",
            "  <script type=\"text/javascript\">\n",
            "   window.onload = function() {\n",
            "  // Parse the tracking code from cookies.\n",
            "  var trk = \"bf\";\n",
            "  var trkInfo = \"bf\";\n",
            "  var cookies = document.cookie.split(\"; \");\n",
            "  for (var i = 0; i < cookies.length; ++i) {\n",
            "    if ((cookies[i].indexOf(\"trkCode=\") == 0) && (cookies[i].length > 8)) {\n",
            "      trk = cookies[i].substring(8);\n",
            "    }\n",
            "    else if ((cookies[i].indexOf(\"trkInfo=\") == 0) && (cookies[i].length > 8)) {\n",
            "      trkInfo = cookies[i].substring(8);\n",
            "    }\n",
            "  }\n",
            "\n",
            "  if (window.location.protocol == \"http:\") {\n",
            "    // If \"sl\" cookie is set, redirect to https.\n",
            "    for (var i = 0; i < cookies.length; ++i) {\n",
            "      if ((cookies[i].indexOf(\"sl=\") == 0) && (cookies[i].length > 3)) {\n",
            "        window.location.href = \"https:\" + window.location.href.substring(window.location.protocol.length);\n",
            "        return;\n",
            "      }\n",
            "    }\n",
            "  }\n",
            "\n",
            "  // Get the new domain. For international domains such as\n",
            "  // fr.linkedin.com, we convert it to www.linkedin.com\n",
            "  // treat .cn similar to .com here\n",
            "  var domain = location.host;\n",
            "  if (domain != \"www.linkedin.com\" && domain != \"www.linkedin.cn\") {\n",
            "    var subdomainIndex = location.host.indexOf(\".linkedin\");\n",
            "    if (subdomainIndex != -1) {\n",
            "      domain = \"www\" + location.host.substring(subdomainIndex);\n",
            "    }\n",
            "  }\n",
            "\n",
            "  window.location.href = \"https://\" + domain + \"/authwall?trk=\" + trk + \"&trkInfo=\" + trkInfo +\n",
            "      \"&original_referer=\" + document.referrer.substr(0, 200) +\n",
            "      \"&sessionRedirect=\" + encodeURIComponent(window.location.href);\n",
            "}\n",
            "  </script>\n",
            " </head>\n",
            "</html>\n",
            "\n"
          ]
        }
      ]
    },
    {
      "cell_type": "markdown",
      "source": [
        "Day 90- news app in python"
      ],
      "metadata": {
        "id": "_vRJaF7bZNB-"
      }
    },
    {
      "cell_type": "code",
      "source": [
        "from IPython.core.display import json\n",
        "import requests\n",
        "query=input(\"What type of news are you interested\")\n",
        "url=f\"https://newsapi.org/v2/everything?q={query}&from=2023-05-28&sortBy=publishedAt&apiKey=37a32247a8374b74957b998b6a4c7c16\"\n",
        "x=requests.get(url)\n",
        "news=json.loads(x.text)\n",
        "for articles in news[\"articles\"]:\n",
        "  print(articles[\"title\"])\n",
        "  print(articles[\"description\"])\n",
        "  print(\"---------------------------------------------------------------\")\n",
        "\n"
      ],
      "metadata": {
        "colab": {
          "base_uri": "https://localhost:8080/"
        },
        "id": "nH8-mmTCZoG-",
        "outputId": "d5f39d38-050a-47c2-ec6b-0b4e1b0b2812"
      },
      "execution_count": null,
      "outputs": [
        {
          "output_type": "stream",
          "name": "stdout",
          "text": [
            "What type of news are you interested music \n",
            "What is it like living in Mecca? For residents, Islam's holiest sites are simply home\n",
            "For residents, Islam's most sacred city Mecca is simply home\n",
            "---------------------------------------------------------------\n",
            "金曲國際音樂節開幕 疫後首啟國際實體商務活動\n",
            "（中央社記者葉冠吟台北27日電）2023GMA金曲國際音樂節今天舉辦開幕活動，不僅是音樂節邁向第10年的日子，也是自2020年歷經3年COVID-19疫情影響後，首次重啟國內與海外的實體商務活動。\n",
            "---------------------------------------------------------------\n",
            "Rwanda: Every Story, Every Song, Every Line is an Invitation Into My Internals - 1key on His New Album 'Ki'\n",
            "[New Times] 1key, a poet, musician, and actor, has said that his latest album 'Ki' will be available on all digital and streaming platforms on July 1, after spending three months exclusively on his website as he wanted to experiment with his fans how they sup…\n",
            "---------------------------------------------------------------\n",
            "Crowds boo Zayed Khan off the stage in US\n",
            "New York City witnessed an unfortunate turn of events at the highly anticipated Dhallywood Film and Music Awards, as actor Zayed Khan found himself at the centre of an unexpected and disrespectful outburst from the audience.\n",
            "---------------------------------------------------------------\n",
            "Pasoori: Bollywood remake of hit Pakistani song divides Indians\n",
            "Indians are reacting sharply to Bollywood's remake of Pasoori, a popular Pakistani pop sing released last year.\n",
            "---------------------------------------------------------------\n",
            "Καλομοίρα: Η «μεταλλική» εμφάνισή της στα  Mad Video Music Awards - Δείτε φωτογραφίες\n",
            "Τραγούδησε το «Cha Cha Cha» και τα παιδιά της την απόλαυσαν για πρώτη φορά στη σκηνή - Η ανάρτησή της λίγο πριν την τηλεοπτική προβολή του μουσικού event | Καλομοίρα | Mad Video Music Awards | εμφάνιση | Gala\n",
            "---------------------------------------------------------------\n",
            "The Japanese House on throuples, her new album, and becoming a better person: ‘Sleeping was the only time I felt good – or drinking’\n",
            "Amber Bain has been making music under the moniker The Japanese House since 2015. The singer-songwriter speaks with Shaad D’Souza about her new album, falling ‘in love with gay pride’, and her thoughts on the controversy surrounding her ‘family member’ and fr…\n",
            "---------------------------------------------------------------\n",
            "What is it like living in Mecca? For residents, Islam's holiest sites are simply home\n",
            "For residents, Islam's most sacred city Mecca is simply home\n",
            "---------------------------------------------------------------\n",
            "Lucian Ban & Mat Maneri – Oedipe Redux (2023)\n",
            "Pianist Lucian Ban and violinist/violist Mat Maneri have teamed up to form an octet dedicated to performing the nearly-forgotten George Enescu opera Oedipe, an early 20th-century work that retells the story of Oedipus Rex as combined with Oedipus the King and…\n",
            "---------------------------------------------------------------\n",
            "Touring Australia and Europe, music festival blocks phone cameras with stickers\n",
            "This Never Happened, a series of dance music events, tells its audiences to 'Experience the moment, don't record it.' That means no phones in the air.\n",
            "---------------------------------------------------------------\n",
            "Leroy from the North – Toughen Up (2023)\n",
            "Leroy from the North is the brainchild of Eli Wulfmeier, singer and guitarist, who wrote all the songs on the record. Originally from Michigan, he moved to California in his twenties and played in the hard rock band Dorothy. He has since toured with Sam Morro…\n",
            "---------------------------------------------------------------\n",
            "TV tonight: farewell to the wonderful world of Somebody Somewhere\n",
            "The finale of this clever, wise show about life’s ups and downs will warm you with a rosy glow. Plus: filthy skits in A Black Lady Sketch show. Here’s what to watch this evening Continue reading...\n",
            "---------------------------------------------------------------\n",
            "What is it like living in Mecca? For residents, Islam's holiest sites are simply home\n",
            "For residents, Islam's most sacred city Mecca is simply home\n",
            "---------------------------------------------------------------\n",
            "What is it like living in Mecca? For residents, Islam's holiest sites are simply home\n",
            "For residents, Islam's most sacred city Mecca is simply home\n",
            "---------------------------------------------------------------\n",
            "Music Festival Vodka Branding - The Absolut Tomorrowland Limited Edition Bottle is Celebratory (TrendHunter.com)\n",
            "(TrendHunter.com) The Absolut Tomorrowland limited edition bottle has been revealed as the latest packaging style from the vodka brand that celebrates the namesake Belgian electronic dance festival. The packaging...\n",
            "---------------------------------------------------------------\n",
            "Shaking off ticket scalping in Victoria\n",
            "Taylor Swift’s Melbourne concerts have officially been declared a major event to protect fans from ticket scalpers. Minister for Tourism,...\n",
            "The post Shaking off ticket scalping in Victoria appeared first on Northern.\n",
            "---------------------------------------------------------------\n",
            "WATCH: ATEEZ Wooyoung Flawlessly Recovers From Nearly Falling Off Stage During Performance\n",
            "ATEEZ member Wooyoung nearly fell off the stage during a performance but quickly recovered.\n",
            "---------------------------------------------------------------\n",
            "What is it like living in Mecca? For residents, Islam’s holiest sites are simply home\n",
            "MECCA, Saudi Arabia (AP) — For Zainab Abdu, the holiest sites in Islam were the backdrop for her weekends growing up.\n",
            "---------------------------------------------------------------\n",
            "What is it like living in Mecca? For residents, Islam's holiest sites are simply home\n",
            "For residents, Islam's most sacred city Mecca is simply home\n",
            "---------------------------------------------------------------\n",
            "What is it like living in Mecca? For residents, Islam's holiest sites are simply home\n",
            "For Zainab Abdu, the holiest sites in Islam were the backdrop for her weekends growing up.  Raised in Mecca, Abdu remembers roller-skating with friends near ...\n",
            "---------------------------------------------------------------\n",
            "ドイツが生んだトランスの帝王 Paul van Dykが待望の再来日！TICKET購入者の中から抽選で10名様にMEET & GREETへご招待！\n",
            "[株式会社TSTエンタテイメント]\n",
            "2004年から2016年までDJ MAGのランキングにノミネートされ、2005年にリリースした「Reflections」がグラミー賞におけるBest Dance/Electronic Albumを受賞し、Dance Music AwardにおいてはヨーロッパのNo.１DJに...\n",
            "---------------------------------------------------------------\n",
            "Alibaba Turns To Little-Known Coder To Continue Jack Ma's Legacy\n",
            "Alibaba Group Holding Ltd. ushered through a parade of high-profile stewards over its 24-year history, from the larger-than-life Jack Ma himself to a succession of C-suite executives who frequent conference and diplomatic circles.\n",
            "---------------------------------------------------------------\n",
            "iOS 17 AirDrop — all the changes coming to your iPhone - Tom's Guide\n",
            "iOS 17 AirDrop — all the changes coming to your iPhoneTom's Guide Apple Messages Is Getting Some Major Changes. Here's What to ExpectCNET iOS 17 features: These are my 12 favoritesAndroid Authority One of my favorite Spotify features is coming to Apple Music …\n",
            "---------------------------------------------------------------\n",
            "Ella, Molly, Kady... meet the cast of Love Island’s 2023 summer edition\n",
            "Molly is the latest islander to be dumped in the ITV 2 show\n",
            "---------------------------------------------------------------\n",
            "Nigeria: Banky W Breaks Silence On Alleged Romance With Niyola\n",
            "[Leadership] Nigerian music executive, Bankole Wellington, popularly known as Banky W, has responded to allegations that he was cheating on his wife, Adesuwa Etomi.\n",
            "---------------------------------------------------------------\n",
            "「楽天グループ 2023夏トレンド予測」を発表\n",
            "[楽天グループ株式会社]\n",
            "[画像1: https://prtimes.jp/i/5889/1991/resize/d5889-1991-8b606381247c34d047fd-3.jpg ]\n",
            "\n",
            "　楽天が運営するマイクロタスク型クラウドソーシングサービス「楽天超ミニバイト」が実施した「今年の夏の過ごし方」...\n",
            "---------------------------------------------------------------\n",
            "アキバホビーが北米最大のアニメイベント「Anime Expo 2023」に出展！東方Projectグッズや、NEEDY GIRL OVERDOSE・原神グッズなどを販売！\n",
            "[株式会社イザナギ（アキバホビー）]\n",
            "[画像1: https://prtimes.jp/i/5369/30/resize/d5369-30-ea25cba72fd36ea7838b-19.jpg ]\n",
            "\n",
            "「東方Project」の新商品や催事限定商品の他、株式会社Gift様の東方ぬいぐるみシリーズや「NEEDY GIRL OVERDOSE」「原神...\n",
            "---------------------------------------------------------------\n",
            "Bizarre! iPhone 14 crash detection feature causes chaos at Bonaroo music festival - HT Tech\n",
            "<ol><li>Bizarre! iPhone 14 crash detection feature causes chaos at Bonaroo music festival  HT Tech\n",
            "</li><li>iPhones Are Making False 911 Calls at Bonnaroo  Gizmodo\n",
            "</li><li>Dancing Bonaroo-goers set off Apple's Crash Detection, cause chaos for 911 team  And…\n",
            "---------------------------------------------------------------\n",
            "Ofertón de los PcDays de PcComponentes con una silla gaming Newskill Takamikura rebajada 70 euros\n",
            "Pasamos muchas horas sentados frente al ordenador. De ahí que sea tan importante disponer de una silla ergonómica, cómoda y que evite que se acumulen muchas tensiones en el cuerpo. Para ello, casi nada mejor que una silla gaming. Si aún no tienes una, quizá t…\n",
            "---------------------------------------------------------------\n",
            "Catching Up With Taeyong, More Rihanna for Vuitton, AmfAR to Launch NFT Art Competition\n",
            "Taeyong had a brief chat with WWD at Loewe, Vuitton releases more Rihanna ads, amfAR unveils an NFT art competition with star judges.\n",
            "---------------------------------------------------------------\n",
            "Fratello Favorites: The Best Summer Watches — Lex’s Picks From Longines, Casio G-Shock, And Certina\n",
            "The summer is for traveling to a destination that will enable you to live your very best life. First, you have to get to your destination in style and on time — cue the first watch, the Longines Spirit Zulu Time GMT 39mm. And once you get to the temporary par…\n",
            "---------------------------------------------------------------\n",
            "The car features drivers say their next motor must have\n",
            "Tech to help drivers park, direct them to a destination and quickly defrost a windscreen ranked high on motorists' wishlist. And one seemingly out-of-date feature is also still very much in demand.\n",
            "---------------------------------------------------------------\n",
            "Amazon: Smarter Tür- und Fenstersensor von Aqara für rund 17 Euro\n",
            "Sind Fenster und Türen geschlossen? Ein smarter Tür- und Fenstersensor schafft flott Klarheit. Gerade ist ein Modell der Marke Aqara bei Amazon günstig im Angebot.\n",
            "---------------------------------------------------------------\n",
            "『特別版 お城EXPO in 姫路』（9月16～18日開催）いよいよ2023年7月4日（火）からチケット販売開始！\n",
            "[特別版 お城EXPO in 姫路実行委員会]\n",
            "　「お城EXPO」は城郭文化の振興と発展や、お城好きの方々との交流を目的に、2016年から毎年横浜にて開催している日本最大級のお城イベントで、姫路城世界遺産登録30周年を記念して9月16日（土）～18日（月・祝）...\n",
            "---------------------------------------------------------------\n",
            "Pernilla Wahlgren: Jag har varit så rädd och stängd\n",
            "Pernilla Wahlgren har drivit med sig själv och sin kändisfamilj ända sen Benjamin-duetten ”Skyll det på min mamma” på Allsången 2007. Det är en humoristisk självdistans som hon tänker jobba vidare med även som programledare, och som dessutom blivit något av e…\n",
            "---------------------------------------------------------------\n",
            "Amazon: VR-Brille Meta Quest 2 für ansehnliche 400 Euro schnappen\n",
            "Mit einer VR-Brille erleben Sie Filme, Spiele und andere virtuelle Umgebungen auf eine ganz neue Weise. Gerade ist bei Amazon die Meta Quest 2 zum Top-Preis im Angebot.\n",
            "---------------------------------------------------------------\n",
            "Soft Tailoring for Spring: What Paris Buyers Loved\n",
            "While Pharrell Williams' powerhouse debut for Louis Vuitton made a mark on the week, buyers found soft shapes and colors from Kim Jones' Dior, Dries Van Noten and Amiri on their wish lists.\n",
            "---------------------------------------------------------------\n",
            "Comment porter les couleurs néon, la tendance mode de cet été\n",
            "À côté de la tendance pastel, une autre bien plus osée se démarque cet été: la tendance néon. Mais en plus de pouvoir l’assumer, il faut aussi savoir comment bien se l’approprier…\n",
            "---------------------------------------------------------------\n",
            "BBC only wants to feature working-class people if they're miserable, says Melvyn Bragg\n",
            "Former South Bank Show host claims that people from his background are under-represented in the media\n",
            "---------------------------------------------------------------\n",
            "Sailor Moon Cosmos Films Stream Video Featuring Insert Song\n",
            "Video features Three Lights insert song \"Nagareboshi e\"\n",
            "---------------------------------------------------------------\n",
            "Wireless Festival to be held at Finsbury Park for next five years\n",
            "Haringey council says the five-year deal provides income for the park, but local groups opposed it.\n",
            "---------------------------------------------------------------\n",
            "BlackPink chưa xin cấp phép biểu diễn \"mà đã quảng cáo như vậy là chưa hợp lý lắm\"\n",
            "HÀ NỘI (Sputnik) - Liên quan đến việc nhóm nhạc BlackPink sẽ tổ chức buổi biểu diễn tại sân Mỹ Đình, Hà Nội, Sở Văn hóa, Thể thao Hà Nội cho biết chưa nhận được hồ sơ xin cấp phép biểu diễn.\n",
            "---------------------------------------------------------------\n",
            "Vodka Garden Party Events - CÎROC Vodka ‘Hit The Courts’ to celebrate its Honey Melon Flavor (TrendHunter.com)\n",
            "(TrendHunter.com) Just in time for summer, CÎROC Vodka has launched a limited edition flavor, CÎROC Vodka Honey Melon. This refreshingly smooth vodka is priced at $55 CAD and is a perfect complement to summer. As...\n",
            "---------------------------------------------------------------\n",
            "Cheating Rumours - Banky W, Adesua Spotted in Church, Keep Mum On Allegations\n",
            "[Premium Times] On Sunday, rumours were rife that Banky W allegedly cheated on Adesua with a former label signee.\n",
            "---------------------------------------------------------------\n",
            "Taylor Swift tour given ‘major event’ status in Victoria in bid to foil ticket scalpers\n",
            "Decision comes as passes for singer’s 2024 Eras tour in Australia are being resold for more than $3,000<ul><li>Follow our Australia news live blog for the latest updates</li><li>Get our morning and afternoon news emails, free app or daily news podcast</li></u…\n",
            "---------------------------------------------------------------\n",
            "„Wir hatten nichts damit zu tun“, sagt Biden über den Wagner-Aufstand\n",
            "Nach dem Aufstand in Russland scheint Joe Biden zu befürchten, dass der russische Staatschef Wladimir Putin dem Westen die Schuld geben könnte. Die USA und die Nato hätten „nichts damit zu tun“, betont der US-Präsident deshalb. Mehr im Liveticker.\n",
            "---------------------------------------------------------------\n",
            "Orban hält Sieg der Ukraine gegen Russland für „unmöglich“\n",
            "Im Interview mit WELT und weiteren Medien spricht Ungarns Ministerpräsident Viktor Orban über seine Sicht auf den Ukraine-Krieg. Er glaubt, dass Kiew die Soldaten eher ausgehen werden als Moskau. Zur Rettung der Ukraine sollten die USA und Russland über einen…\n",
            "---------------------------------------------------------------\n",
            "Elton John fans infuriated by Piers Morgan’s Glastonbury commentary: ‘Read the room’\n",
            "The former ‘Good Morning Britain’ presenter tweeted suggesting John was ‘having to read the words to all his own songs’\n",
            "---------------------------------------------------------------\n",
            "「MUSIC FAIR」で城田優＆真彩希帆が「ファントム」楽曲をデュエット\n",
            "7月1日18:00からフジテレビ系で放送される「MUSIC FAIR」に、ミュージカル「ファントム」より城田優、真彩希帆が出演する。\n",
            "---------------------------------------------------------------\n",
            "Rates increase signed off by Whanganui District Council, but no one is happy about it\n",
            "“It doesn’t matter how you cut it, we have made people worse-off this year.\"\n",
            "---------------------------------------------------------------\n",
            "Braverman needs to deal in reality and green light drugs testing at UK festivals\n",
            "The lack of on-site drug testing at festivals this summer could have harmful consequences. It's part of a broader problem: the Home Office's \"war on drugs\" rhetoric is unrealistic, writes Elena Siniscalco\n",
            "---------------------------------------------------------------\n",
            "Philosopher sparks outrage with essay about why people shouldn’t travel: ‘Very elitist’\n",
            "‘Travel is a boomerang. It drops you right where you started,’ she writes\n",
            "---------------------------------------------------------------\n",
            "WATCH: SHINee Drops Official Music Video For New Hip-Hop Track 'Hard'\n",
            "SHINee unveiled the official music video of its new track \"Hard.\"\n",
            "---------------------------------------------------------------\n",
            "RAUW ALEJANDRO visitará Ecuador en su gira Saturno World Tour 2023\n",
            "El reguetonero puertorriqueño Rauw Alejandro ofrecerá dos conciertos en Ecuador como parte de su gira mundial Saturno World Tour 2023.\n",
            "---------------------------------------------------------------\n",
            "Russ, Dr. Dre, & Snoop Dogg’s Studio Session Was A ‘Dream’ Come True For The Rapper To Which He Considered Himself ‘Blessed’\n",
            "Getty Image\n",
            "\n",
            "\n",
            "In the gallery of images uploaded to the 'Too Much' rapper's Instagram, he let fans know he's rubbing shoulders with the rap pioneers.\n",
            "---------------------------------------------------------------\n",
            "How The Mars Volta's De-Loused In The Comatorium brilliantly rewired prog rock for a new generation of punk rock kids\n",
            "Released in June 2003, The Mars Volta's debut album De-Loused In The Comatorium is a prog-punk masterpiece\n",
            "---------------------------------------------------------------\n",
            "First Vietnamese invited to join piano jury at Int’l Tchaikovsky Competition\n",
            "Assoc. Prof., Dr. Ta Quang Dong, Deputy Minister of Culture, Sports and Tourism, has become the first Vietnamese to be invited to join the jury for the piano contest at the 17th International Tchaikovsky Competition, the ministry announced on June 26.\n",
            "---------------------------------------------------------------\n",
            "10th annual Boston JerkFest kicks off next weekend\n",
            "The two-day, outdoor Caribbean-style food festival is often recognized as one of the best festivals of the summer. Bring the family.\n",
            "---------------------------------------------------------------\n",
            "Malachy Tuohy: ‘There was no point putting out an album that sounded like The Riptide Movement’\n",
            "The songwriter’s debut solo album was born out of a feverish spell of lockdown creativity, unmoored from any requirement for radio-friendliness\n",
            "---------------------------------------------------------------\n",
            "‘The throuple was intense. I’m really happy I had that experience. I’m equally happy I’m no longer in it’\n",
            "Amber Bain, aka The Japanese House, has made an extraordinary album after her fraught three-way relationship\n",
            "---------------------------------------------------------------\n",
            "Compassion, collaboration, and community: Strategies for staff well-being\n",
            "Journal Title: \n",
            "Nursing Management Abstract: <!-- ARTICLE LENGTH:0 -->\n",
            "<!-- ABSTRACT LENGTH YYY:1000 -->\n",
            "Article Price :$10.95 \n",
            "Issue pub date:June 2023 \n",
            "Volume:54 Number:6\n",
            "Pages:7 - 11\n",
            "---------------------------------------------------------------\n",
            "Jacky Cheung adds final two concerts in Singapore, bringing total to 11 shows\n",
            "The Hong Kong Heavenly King has already sold out nine concerts at the Singapore Indoor Stadium. Read more at straitstimes.com.\n",
            "---------------------------------------------------------------\n",
            "Bizarrap y Rauw Alejandro: ¿dos nuevas canciones del verano?\n",
            "El argentino y el de Puerto Rico no tuvieron suficiente con la 'BZRP Music Session #56' lanzada el 21 de junio. Apenas 24 horas después presentaron 'Baby Hello', el adelanto de 'Playa Saturno', el nuevo disco de Rauw Alejandro. Sin quererlo ni beberlo, los do…\n",
            "---------------------------------------------------------------\n",
            "Travis Scott's Website Gets Updated With 'UTOPIA' Logo and Pre-Order Code Line\n",
            "Travis Scott's elusive UTOPIA album could be dropping very soon as eagle-eyed fans spotted his updated website hinting at its release.As per Kurrco on Twitter, a line in Scott's website coding supposedly features a UTOPIA pre-order option that links to his of…\n",
            "---------------------------------------------------------------\n",
            "Jason Mraz - I'm Yours [듣기/가사/번역]\n",
            "반응형\n",
            "\n",
            " \n",
            "\n",
            " \n",
            "\n",
            " (adsbygoogle = window.adsbygoogle || []).push({}); \n",
            "\n",
            " \n",
            "\n",
            " Jason Mraz의 \"I'm Yours\"는 2008년 6월 20일 발매된 그의 네 번째 정규 앨범 We Sing. We Dance. We Steal Things.의 첫 번째 싱글입니다. 이 곡은 2008년 11월 미국 빌보드 핫 100 차트에서 1위를 차지했으며, 전 세계적으로 1000만 장 이상 판매되었습니다. \"I'm You…\n",
            "---------------------------------------------------------------\n",
            "Sprite tries to reach Gen Z, millennials with QR codes, social spend honoring hip-hop’s 50th anniversary\n",
            "Beverage brand Sprite is diversifying its media mix to appeal to Gen Z and millennials while marking the 50th anniversary of hip-hop music. Sprite has a 30-second ad spot that debuted earlier this month, featuring Nas, Rakim, Latto and GloRilla on connected a…\n",
            "---------------------------------------------------------------\n",
            "Cloud, Why So Difficult?\n",
            "A manifesto for cloud-oriented programming\n",
            "---------------------------------------------------------------\n",
            "Weaponization of Politics, an American Tradition\n",
            "President Donald Trump is hardly the first political figure who has had the legal and policy processes weaponized against him. In fact, there is a long and shameful history of US politicians and bureaucrats weaponizing governmental powers against their politi…\n",
            "---------------------------------------------------------------\n",
            "Sprite tries to reach Gen Z, millennials with QR codes, social spend honoring hip-hop’s 50th anniversary\n",
            "As the beverage brand Sprite celebrates the 50th anniversary of Hip-Hop music, they will diversify their media mix to appeal to young consumers across media platforms, including Gen Z and Millennials, who have grown up listening to the genre.\n",
            "---------------------------------------------------------------\n",
            "Coi Leray: COI\n",
            "Read Heven Haile's review of the album.\n",
            "---------------------------------------------------------------\n",
            "Mortgage help: your questions answered\n",
            "The 13th interest rate rise in a row has piled on the pain for many homeowners. Money Clinic host Claer Barrett has assembled a team of experts to talk through the options for managing the hit on overstretched wallets. Sarah Pennells, consumer finance special…\n",
            "---------------------------------------------------------------\n",
            "Dancing, feasts and faith mark life on a vanishing island – Tuvalu photo essay\n",
            "Music and laughter mix with the sound of waves crashing, a rhythm to life on a small atoll in the grip of the climate emergencyAs the sun sets in Tuvalu, children climb and play on mountains of sand that have been dredged from the seafloor. Women walk in the …\n",
            "---------------------------------------------------------------\n",
            "‘People are like, Wow!’: the man trying to make condoms sexy\n",
            "It has been said that condoms share marketing characteristics with napalm and funerals. But it is Ben Wilson’s mission to make us believe they are key to human happinessIt is important to Ben Wilson, the man in charge of the condom brand Durex, that he chews …\n",
            "---------------------------------------------------------------\n",
            "Amazon: Gaming-Headset von Roccat mit 7.1-Sound für 40 Euro kaufen\n",
            "Versagt das Gaming-Headset den Dienst, dann muss flott ein Nachfolger her. Den finden Sie derzeit bei Amazon. Dort ist das Roccat Elo 7.1 USB zum Top-Preis im Angebot.\n",
            "---------------------------------------------------------------\n",
            "BET Awards honor hip-hop's 50 years\n",
            "The 2023 BET Awards celebrated 50 years of hip-hop with tributes to the genre’s earliest voices, late legends, and new talent during a show packed with spectacular performances that consistently felt like a party.\n",
            "---------------------------------------------------------------\n",
            "Rrose: Please Touch\n",
            "Read Philip Sheburne’s review of the album.\n",
            "---------------------------------------------------------------\n",
            "Amazon: Kompakte In-Ears Soundcore Life A1 für keine 35 Euro abgreifen\n",
            "Auf der Suche nach günstigen und kleinen Bluetooth-Kopfhörern? Dann finden Sie gerade die Anker Soundcore Life A1 besonders preiswerter bei Amazon im Angebot.\n",
            "---------------------------------------------------------------\n",
            "Amazon: Handliches Lenovo-Tablet mit 11,5 Zoll und 128 GB für 259 Euro\n",
            "Surfen auf der Couch, Kochshow in der Küche schauen und im Zug arbeiten – all das klappt mit einem Tablet. Bei Amazon ist aktuell das Lenovo Tab P11 G2 zum Spitzenpreis im Angebot.\n",
            "---------------------------------------------------------------\n",
            "Midnight Mania! Introducing ‘The Evolution Of Mixed Martial Arts’\n",
            "Bringing you the weird and wild from the world of MMA each and every weeknight!\n",
            "---------------------------------------------------------------\n",
            "30 Summer Nordstrom Finds That Are Giving South of France Vibes\n",
            "I'm not going to the South of France this summer but these 30 Nordstrom items make me look like I am.\n",
            "---------------------------------------------------------------\n",
            "'Emotional' Elton John closes out Glastonbury festival\n",
            "Elton John gave the final concert at Britain's legendary Glastonbury Festival on June 25, bringing down the curtain on the annual spectacular with what could be his final U.K. performance.\n",
            "---------------------------------------------------------------\n",
            "Amazon: Kompakte Gaming-Tastatur von SteelSeries für keine 40 Euro\n",
            "Gaming-Tastatur futsch? Dann finden Sie gerade bei Amazon die SteelSeries Apex 3 TKL deutlich preiswerter im Angebot. Jetzt sparen!\n",
            "---------------------------------------------------------------\n",
            "Smarter Temperatursensor von Aqara für rund 17 Euro\n",
            "Stimmen Temperatur und Feuchtigkeit? Der smarte Temperatur- und Feuchtigkeitssensor von Aqara verrät es. Aktuell ist er bei Amazon zum Spottpreis im Angebot.\n",
            "---------------------------------------------------------------\n",
            "Amazon: SanDisk-microSD mit 256 GB für rund 23 Euro\n",
            "Eine microSD-Karte bohrt einfach und schnell den Speicher auf. Amazon hat gerade mit der SanDisk Ultra 256 GB eine günstiger im Angebot. Jetzt sparen!\n",
            "---------------------------------------------------------------\n",
            "Connor McDavid completes the MVP three-peat with his third Hart Trophy at the NHL awards\n",
            "McDavid won his third Hart Trophy as NHL MVP on Monday night, falling one vote short of unanimous selection after the highest-scoring season by a player in more than a quarter-century.\n",
            "---------------------------------------------------------------\n",
            "Les interfaces cerveau-machine promettent de changer la vie des handicapés\n",
            "Les interfaces cerveau-machine promettent de changer la vie des handicapés\n",
            "---------------------------------------------------------------\n",
            "Gal Gadot to receive star on Hollywood’s Walk of Fame\n",
            "'Wonderwoman' lead becomes first Israeli actor to receive accolade, says it inspires her to 'continue doing what I love'\n",
            "---------------------------------------------------------------\n",
            "„Das sind geheime Informationen“ – Tonaufnahme von Trump veröffentlicht\n",
            "Donald Trump behauptet, nicht gewusst zu haben, dass er Geheimdokumente in seinem Privatanwesen aufbewahrte. Nun hat CNN eine Tonaufnahme veröffentlicht, über die zuvor bereits berichtet worden war. Darin prahlt er damit, vertrauliche Papiere zu besitzen.\n",
            "---------------------------------------------------------------\n",
            "„Das sind geheime Informationen“ – Tonaufnahme von Trump veröffentlicht\n",
            "Donald Trump behauptet, nicht gewusst zu haben, dass er Geheimdokumente in seinem Privatanwesen aufbewahrte. Nun hat CNN eine Tonaufnahme veröffentlicht, über die zuvor bereits berichtet worden war. Darin prahlt er damit, vertrauliche Papiere zu besitzen.\n",
            "---------------------------------------------------------------\n",
            "Megan Thee Stallion Sizzles In Teeny Tiny Bikini While Dancing In Sexy New TikTok Video\n",
            "The rapper also wore sunglasses and had her long curly hair down, in the eye-catching post.\n",
            "---------------------------------------------------------------\n",
            "Madonna -Crazy for You [듣기/가사/번역]\n",
            "반응형\n",
            "\n",
            " \n",
            "\n",
            " \n",
            "\n",
            " (adsbygoogle = window.adsbygoogle || []).push({}); \n",
            "\n",
            " \n",
            "\n",
            " \"Crazy for You\"는 1985년 Madonna의 2번째 스튜디오 앨범 \"Like a Virgin\"의 리드 싱글입니다. 이 곡은 Patrick Leonard와 Nile Rodgers가 작곡하고 프로듀싱했으며, 1985년 8월 20일에 발매되었습니다. 이 곡은 Billboard Hot 100에서 1위를 차지하고, Madonn…\n",
            "---------------------------------------------------------------\n",
            "デフ・レパード、サミー・ヘイガー、グウェン・ステファニーら2024年にハリウッドの殿堂入り\n",
            "(C) Ross Halfinハリウッド・ウォーク・オブ・フェイムを設立した米ハリウッド商工会議所は、現地時間6月26日、2024年に殿堂入りする人々の名を発表した。◆関連動画レコーディングのカテゴリーでは、グレン...\n",
            "---------------------------------------------------------------\n",
            "Keith Urban and Nicole Kidman make generous donation to Qld charity\n",
            "In a \"big morale boost\" for volunteers, country music megastar Keith Urban and his movie-star wife Nicole Kidman have donated more than $20,000 to a Sunshine Coast charity.\n",
            "---------------------------------------------------------------\n",
            "John Maus Exits ElectroniCON 2023 Lineup, Curator George Clanton Apologizes for Booking Him\n",
            "“We underestimated the division this booking would sew amongst our community,” Clanton wrote\n",
            "---------------------------------------------------------------\n",
            "Every epic moment from 2023 NHL Awards, including Dierks Bentley's Stanley Cup beer chug\n",
            "Country music star Dierks Bentley headlined star-studded 2023 NHL Awards that featured Pekka Rinne, Nate Bargatze, Connor McDavid, David Poile, more\n",
            "---------------------------------------------------------------\n",
            "Popstars could be powering inflation as concert prices surge, fans pay more\n",
            "Fans are shelling out a fortune for tickets to see the world's biggest music acts, including names like Taylor Swift and Bruce Springsteen who haven't toured for years\n",
            "---------------------------------------------------------------\n",
            "Pathaan, Naatu Naatu & momos are few of kids' favorite things; SRK wins hearts\n",
            "The Nickelodeon Kids' Choice Awards 2022 in India revealed that Shah Rukh Khan's \"Pathaan\" was voted the most favorite movie among kids. Kiara Advani won the title of Favorite Movie Actor (Female), while Hrithik Roshan and Madhuri Dixit were hailed as the Fav…\n",
            "---------------------------------------------------------------\n",
            "OnePlus Nord 3, Nord CE 3, and Nord Buds 2R to Launch in India on This Date\n",
            "OnePlus Nord 3 5G will launch in India next week, alongside the OnePlus Nord CE 3 5G and the OnePlus Nord Buds 2R, the company has confirmed. The Chinese manufacturer also revealed colour options for the OnePlus Nord 3 and the design of the Nord CE 3 handset.\n",
            "---------------------------------------------------------------\n",
            "The guidebook’s death has been greatly exaggerated\n",
            "These are aesthetic printed pleasures that will save you from having to squint to read text on a screen\n",
            "---------------------------------------------------------------\n",
            "Lewis Capaldi Gets Emotional as Glastonbury Crowd Helps Him Get Through His Song\n",
            "Lewis Capaldi Gets Emotional as Glastonbury Crowd Helps Him Get Through His Songetonline.com\n",
            "---------------------------------------------------------------\n"
          ]
        }
      ]
    },
    {
      "cell_type": "markdown",
      "source": [
        "Day 91- Generators"
      ],
      "metadata": {
        "id": "XOgs9YyTjgKM"
      }
    },
    {
      "cell_type": "code",
      "source": [
        "def gen():\n",
        "  for i in range(5):\n",
        "    yield i\n",
        "gen1=gen()\n",
        "print(next(gen1))\n",
        "print(next(gen1))\n",
        "print(next(gen1))\n",
        "\n",
        "\n"
      ],
      "metadata": {
        "colab": {
          "base_uri": "https://localhost:8080/"
        },
        "id": "oit3GkpcjoLJ",
        "outputId": "fe7b1849-de04-4786-b821-d4f7a550d708"
      },
      "execution_count": null,
      "outputs": [
        {
          "output_type": "stream",
          "name": "stdout",
          "text": [
            "0\n",
            "1\n",
            "2\n"
          ]
        }
      ]
    },
    {
      "cell_type": "markdown",
      "source": [
        "Day 92 -function caching"
      ],
      "metadata": {
        "id": "EEaoT0WplbP5"
      }
    },
    {
      "cell_type": "code",
      "source": [
        "from functools import lru_cache\n",
        "import time\n",
        "@lru_cache(maxsize=None)\n",
        "def fx(n):\n",
        "  time.sleep(3)\n",
        "  return n*3\n",
        "\n",
        "print(fx(20))\n",
        "print(\"done for this number\")\n",
        "print(fx(3))\n",
        "print(\"done for this number\")\n",
        "print(fx(5))\n",
        "print(\"done for this number\")\n",
        "print(fx(20))\n",
        "print(\"done for this number\")\n",
        "print(fx(11))\n",
        "print(\"done for this number\")\n",
        "print(fx(12))\n",
        "print(\"done for this number\")\n"
      ],
      "metadata": {
        "colab": {
          "base_uri": "https://localhost:8080/"
        },
        "id": "HbXFoH-Ikqvr",
        "outputId": "6a71c315-d4a5-4baa-af85-53873c447b78"
      },
      "execution_count": null,
      "outputs": [
        {
          "output_type": "stream",
          "name": "stdout",
          "text": [
            "60\n",
            "done for this number\n",
            "9\n",
            "done for this number\n",
            "15\n",
            "done for this number\n",
            "60\n",
            "done for this number\n",
            "33\n",
            "done for this number\n",
            "36\n",
            "done for this number\n"
          ]
        }
      ]
    },
    {
      "cell_type": "markdown",
      "source": [
        "Day 93- solution of news app"
      ],
      "metadata": {
        "id": "yI5nxCu5AKzA"
      }
    },
    {
      "cell_type": "markdown",
      "source": [
        "Day 94- drink water solution"
      ],
      "metadata": {
        "id": "djZDQYsTANuk"
      }
    },
    {
      "cell_type": "code",
      "source": [
        "pip install win10toast\n"
      ],
      "metadata": {
        "id": "6sCgcrAOANVx"
      },
      "execution_count": null,
      "outputs": []
    },
    {
      "cell_type": "code",
      "source": [
        "from win10toast import ToastNotifier   #stack overflow solution\n",
        "toast = ToastNotifier()\n",
        "toast.show_toast(\n",
        "    \"Notification\",\n",
        "    \"Notification body\",\n",
        "    duration = 20,\n",
        "    icon_path = \"icon.ico\",\n",
        "    threaded = True,\n",
        ")"
      ],
      "metadata": {
        "id": "sM9DbgmCBy57"
      },
      "execution_count": null,
      "outputs": []
    },
    {
      "cell_type": "markdown",
      "source": [
        "Day 95- regular expressions in python"
      ],
      "metadata": {
        "id": "X1QVfrvAGVf7"
      }
    },
    {
      "cell_type": "code",
      "source": [
        "import re"
      ],
      "metadata": {
        "id": "HESgip1rGfTM"
      },
      "execution_count": null,
      "outputs": []
    },
    {
      "cell_type": "code",
      "source": [
        "pattern=\"was\"\n",
        "pattern=r\"[A-Z]+ilchar\"\n",
        "text=\"i am siddhartha dhar i was born and brought up in Silchar.\"\n",
        "x=re.search(pattern,text)\n",
        "print(x)"
      ],
      "metadata": {
        "colab": {
          "base_uri": "https://localhost:8080/"
        },
        "id": "467C5qdnGtkH",
        "outputId": "ea2c1c4f-fd7d-4baa-a6d9-346932282a88"
      },
      "execution_count": null,
      "outputs": [
        {
          "output_type": "stream",
          "name": "stdout",
          "text": [
            "<re.Match object; span=(50, 57), match='Silchar'>\n"
          ]
        }
      ]
    },
    {
      "cell_type": "markdown",
      "source": [
        "Day 96- AsyncIO"
      ],
      "metadata": {
        "id": "hIJyqzxdNVPS"
      }
    },
    {
      "cell_type": "code",
      "source": [
        "import time\n",
        "import asyncio\n",
        "async def func1():\n",
        "  await asyncio.sleep(3)\n",
        "  print(\" func1 this is printed\")\n",
        "async def func2():\n",
        "  asyncio.sleep(1)\n",
        "  print(\" func2 this is printed\")\n",
        "async def func3():\n",
        "  await asyncio.sleep(2)\n",
        "  print(\"func3 this is printed\")\n",
        "L= await asyncio.gather(\n",
        "    func1(),\n",
        "    func2(),\n",
        "    func3()\n",
        ")\n",
        "print(L)"
      ],
      "metadata": {
        "colab": {
          "base_uri": "https://localhost:8080/"
        },
        "id": "pUmtv6-bNXbh",
        "outputId": "f9978f08-08e6-49f3-887d-a4d8b22bbb20"
      },
      "execution_count": null,
      "outputs": [
        {
          "output_type": "stream",
          "name": "stderr",
          "text": [
            "<ipython-input-21-3c769f2c6249>:7: RuntimeWarning: coroutine 'sleep' was never awaited\n",
            "  asyncio.sleep(1)\n",
            "RuntimeWarning: Enable tracemalloc to get the object allocation traceback\n"
          ]
        },
        {
          "output_type": "stream",
          "name": "stdout",
          "text": [
            " func2 this is printed\n",
            "func3 this is printed\n",
            " func1 this is printed\n",
            "[None, None, None]\n"
          ]
        }
      ]
    },
    {
      "cell_type": "markdown",
      "source": [
        "Day 97- Multithreading"
      ],
      "metadata": {
        "id": "4I3jX7C0NYEH"
      }
    },
    {
      "cell_type": "code",
      "source": [
        "import time\n",
        "import threading\n",
        "\n",
        "def func(seconds):\n",
        "  print(f\"sleep for {seconds} seconds\")\n",
        "  time.sleep(seconds)\n",
        "\n",
        "counter1=time.perf_counter()\n",
        "func(4)\n",
        "func(2)\n",
        "func(1)\n",
        "counter2=time.perf_counter()\n",
        "print(counter2-counter1)\n",
        "\n",
        "counter1=time.perf_counter()\n",
        "t1=threading.Thread(target=func,args=[4])\n",
        "t2=threading.Thread(target=func,args=[2])\n",
        "t3=threading.Thread(target=func,args=[1])\n",
        "\n",
        "t1.start()\n",
        "t2.start()\n",
        "t3.start()\n",
        "counter1=time.perf_counter()\n",
        "print(counter2-counter1)"
      ],
      "metadata": {
        "colab": {
          "base_uri": "https://localhost:8080/"
        },
        "id": "PSAiI-75NbFl",
        "outputId": "5f35c851-5fd3-4eca-a416-531961d296ea"
      },
      "execution_count": null,
      "outputs": [
        {
          "output_type": "stream",
          "name": "stdout",
          "text": [
            "sleep for 4 seconds\n",
            "sleep for 2 seconds\n",
            "sleep for 1 seconds\n",
            "7.010760345000563\n",
            "sleep for 4 seconds\n",
            "sleep for 2 seconds\n",
            "sleep for 1 seconds-0.0040201089996116934\n",
            "\n"
          ]
        }
      ]
    },
    {
      "cell_type": "markdown",
      "source": [
        "Day 98- Multiprocessing"
      ],
      "metadata": {
        "id": "Gulxei8dQzrI"
      }
    },
    {
      "cell_type": "code",
      "source": [
        "import multiprocessing\n",
        "import requests                       # multiprocessing is a package that supports spawning processes using an API similar to the threading module. The multiprocessing package offers both local and remote concurrency, effectively side-stepping the Global Interpreter Lock by using subprocesses instead of threads. Due to this, the multiprocessing module allows the programmer to fully leverage multiple processors on a given machine. It runs on both Unix and Windows.\n",
        "import concurrent.futures\n",
        "\n",
        "\"\"\" With codewithharry part\"\"\"\n",
        "def downloadFile(url, name):\n",
        "  print(f\"Started Downloading {name}\")\n",
        "  response = requests.get(url)\n",
        "  open(f\"files/file{name}.jpg\", \"wb\").write(response.content)\n",
        "  print(f\"Finished Downloading {name}\")\n",
        "  return name\n",
        "\n",
        "url = \"https://picsum.photos/2000/3000\"\n",
        "pros = []\n",
        "for i in range(5):\n",
        "  p = multiprocessing.Process(target=downloadFile, args=[url, i])\n",
        "if __name__ == \"main\": #mustline for strt() and join()\n",
        "    p.start()\n",
        "pros.append(p)\n",
        "\n",
        "for p in pros:\n",
        "  if __name__ == \"main\":\n",
        "    p.join()\n",
        "\n",
        "with concurrent.futures.ProcessPoolExecutor() as executor:\n",
        "  l1 = [url for i in range(6)]\n",
        "  l2 = [i for i in range(6)]\n",
        "  if __name__ == \"main\": # must to write Understand from below simple code of Learned from johan godinho\n",
        "    results = executor.map(downloadFile, l1, l2)# one element from l1 and one from l2 will go to downloadFile() and run\n",
        "    for r in results:\n",
        "      print(r)"
      ],
      "metadata": {
        "id": "82s2_rXLQ2F7"
      },
      "execution_count": null,
      "outputs": []
    },
    {
      "cell_type": "markdown",
      "source": [
        "Day 99- Solution of drink water"
      ],
      "metadata": {
        "id": "eYhUyLdTNgRT"
      }
    },
    {
      "cell_type": "markdown",
      "source": [
        "Day 100-Conclusion- do more projects on python, search for more inbuilt modules and libraries and work on them."
      ],
      "metadata": {
        "id": "7f_JmWAwNmLg"
      }
    }
  ]
}